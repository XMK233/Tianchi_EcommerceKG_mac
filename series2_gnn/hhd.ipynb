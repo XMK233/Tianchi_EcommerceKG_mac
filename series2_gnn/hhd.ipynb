{
 "cells": [
  {
   "cell_type": "markdown",
   "id": "bed729e2",
   "metadata": {},
   "source": [
    "# 加载编码好的数据"
   ]
  },
  {
   "cell_type": "markdown",
   "id": "695652d6",
   "metadata": {
    "vscode": {
     "languageId": "plaintext"
    }
   },
   "source": [
    "# 定义模型"
   ]
  },
  {
   "cell_type": "markdown",
   "id": "5f79302a",
   "metadata": {},
   "source": [
    "# 训练"
   ]
  },
  {
   "cell_type": "markdown",
   "id": "28c0ea43",
   "metadata": {},
   "source": [
    "# 在Valid集上推理并看表现"
   ]
  },
  {
   "cell_type": "markdown",
   "id": "c4d92cb0",
   "metadata": {},
   "source": []
  }
 ],
 "metadata": {
  "language_info": {
   "name": "python"
  }
 },
 "nbformat": 4,
 "nbformat_minor": 5
}
