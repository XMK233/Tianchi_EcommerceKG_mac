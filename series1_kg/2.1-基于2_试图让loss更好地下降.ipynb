{
 "cells": [
  {
   "cell_type": "code",
   "execution_count": 8,
   "id": "6ddb03c2-2efa-4fc6-a487-6f451c71bdb4",
   "metadata": {},
   "outputs": [
    {
     "ename": "AttributeError",
     "evalue": "module 'torch.mps' has no attribute 'is_available'",
     "output_type": "error",
     "traceback": [
      "\u001b[0;31m---------------------------------------------------------------------------\u001b[0m",
      "\u001b[0;31mAttributeError\u001b[0m                            Traceback (most recent call last)",
      "Cell \u001b[0;32mIn[8], line 4\u001b[0m\n\u001b[1;32m      2\u001b[0m     lines \u001b[38;5;241m=\u001b[39m f\u001b[38;5;241m.\u001b[39mread()\n\u001b[1;32m      3\u001b[0m     \u001b[38;5;66;03m# lines = lines.replace(\"BATCH_SIZE = 1024  # 训练批次大小\", \"BATCH_SIZE = 256  # 训练批次大小\")\u001b[39;00m\n\u001b[0;32m----> 4\u001b[0m \u001b[43mexec\u001b[49m\u001b[43m(\u001b[49m\u001b[43mlines\u001b[49m\u001b[43m)\u001b[49m\n",
      "File \u001b[0;32m<string>:24\u001b[0m\n",
      "File \u001b[0;32m<string>:21\u001b[0m, in \u001b[0;36mset_seed\u001b[0;34m(seed)\u001b[0m\n",
      "\u001b[0;31mAttributeError\u001b[0m: module 'torch.mps' has no attribute 'is_available'"
     ]
    }
   ],
   "source": [
    "with open(\"mps_optimized_kg_predictor.py\", \"r\") as f:\n",
    "    lines = f.read()\n",
    "    # lines = lines.replace(\"BATCH_SIZE = 1024  # 训练批次大小\", \"BATCH_SIZE = 256  # 训练批次大小\")\n",
    "exec(lines)"
   ]
  },
  {
   "cell_type": "code",
   "execution_count": null,
   "id": "54f8a0f4-2c17-41db-b541-86ed0a9fa57e",
   "metadata": {},
   "outputs": [],
   "source": []
  },
  {
   "cell_type": "code",
   "execution_count": null,
   "id": "6ca8c445-2e3e-44fe-8da4-8475b042c9a3",
   "metadata": {},
   "outputs": [],
   "source": []
  },
  {
   "cell_type": "code",
   "execution_count": 7,
   "id": "0d352a2b-a774-4168-ae66-6a668dc34694",
   "metadata": {},
   "outputs": [
    {
     "name": "stdout",
     "output_type": "stream",
     "text": [
      "使用设备: cpu\n",
      "当前使用的数据路径:\n",
      "训练集: /Users/minkexiu/Downloads/GitHub/Tianchi_EcommerceKG_mac/originalData/OpenBG500/OpenBG500_train.tsv\n",
      "测试集: /Users/minkexiu/Downloads/GitHub/Tianchi_EcommerceKG_mac/originalData/OpenBG500/OpenBG500_test.tsv\n",
      "开发集: /Users/minkexiu/Downloads/GitHub/Tianchi_EcommerceKG_mac/originalData/OpenBG500/OpenBG500_dev.tsv\n",
      "输出路径: /Users/minkexiu/Downloads/GitHub/Tianchi_EcommerceKG_mac/preprocessedData/OpenBG500_test.tsv\n",
      "\n",
      "正在加载数据集...\n",
      "成功加载 /Users/minkexiu/Downloads/GitHub/Tianchi_EcommerceKG_mac/originalData/OpenBG500/OpenBG500_train.tsv，共 1242550 条数据\n",
      "成功加载 /Users/minkexiu/Downloads/GitHub/Tianchi_EcommerceKG_mac/originalData/OpenBG500/OpenBG500_test.tsv，共 0 条数据\n",
      "成功加载 /Users/minkexiu/Downloads/GitHub/Tianchi_EcommerceKG_mac/originalData/OpenBG500/OpenBG500_dev.tsv，共 5000 条数据\n",
      "\n",
      "数据集统计:\n",
      "训练数据大小: 1242550\n",
      "测试数据大小: 0\n",
      "开发数据大小: 5000\n",
      "\n",
      "正在构建实体和关系映射...\n",
      "实体数量: 249746\n",
      "关系数量: 500\n",
      "\n",
      "正在创建TransE模型...\n",
      "\n",
      "开始训练模型...\n",
      "  批次进度: 99.7% (1239040/1242550)\n",
      "轮次 1/1 - 平均损失: 0.5590 - 耗时: 114.15秒\n",
      "\n",
      "训练完成，开始在开发集上评估模型性能...\n",
      "将评估 5000 个三元组\n"
     ]
    },
    {
     "ename": "KeyboardInterrupt",
     "evalue": "",
     "output_type": "error",
     "traceback": [
      "\u001b[0;31m---------------------------------------------------------------------------\u001b[0m",
      "\u001b[0;31mKeyboardInterrupt\u001b[0m                         Traceback (most recent call last)",
      "Cell \u001b[0;32mIn[7], line 4\u001b[0m\n\u001b[1;32m      2\u001b[0m     lines \u001b[38;5;241m=\u001b[39m f\u001b[38;5;241m.\u001b[39mread()\n\u001b[1;32m      3\u001b[0m     \u001b[38;5;66;03m# lines = lines.replace(\"BATCH_SIZE = 1024  # 训练批次大小\", \"BATCH_SIZE = 256  # 训练批次大小\")\u001b[39;00m\n\u001b[0;32m----> 4\u001b[0m \u001b[43mexec\u001b[49m\u001b[43m(\u001b[49m\u001b[43mlines\u001b[49m\u001b[43m)\u001b[49m\n",
      "File \u001b[0;32m<string>:540\u001b[0m\n",
      "File \u001b[0;32m<string>:532\u001b[0m, in \u001b[0;36mmain\u001b[0;34m()\u001b[0m\n",
      "File \u001b[0;32m<string>:325\u001b[0m, in \u001b[0;36mevaluate\u001b[0;34m(model, dev_dataset, mapper, device, batch_size, max_entities_per_batch)\u001b[0m\n",
      "File \u001b[0;32m/opt/anaconda3/envs/ml12/lib/python3.12/site-packages/torch/functional.py:1626\u001b[0m, in \u001b[0;36mnorm\u001b[0;34m(input, p, dim, keepdim, out, dtype)\u001b[0m\n\u001b[1;32m   1624\u001b[0m _p \u001b[38;5;241m=\u001b[39m \u001b[38;5;241m2.0\u001b[39m \u001b[38;5;28;01mif\u001b[39;00m p \u001b[38;5;129;01mis\u001b[39;00m \u001b[38;5;28;01mNone\u001b[39;00m \u001b[38;5;28;01melse\u001b[39;00m p\n\u001b[1;32m   1625\u001b[0m \u001b[38;5;28;01mif\u001b[39;00m out \u001b[38;5;129;01mis\u001b[39;00m \u001b[38;5;28;01mNone\u001b[39;00m:\n\u001b[0;32m-> 1626\u001b[0m     \u001b[38;5;28;01mreturn\u001b[39;00m \u001b[43mtorch\u001b[49m\u001b[38;5;241;43m.\u001b[39;49m\u001b[43mlinalg\u001b[49m\u001b[38;5;241;43m.\u001b[39;49m\u001b[43mvector_norm\u001b[49m\u001b[43m(\u001b[49m\u001b[38;5;28;43minput\u001b[39;49m\u001b[43m,\u001b[49m\u001b[43m \u001b[49m\u001b[43m_p\u001b[49m\u001b[43m,\u001b[49m\u001b[43m \u001b[49m\u001b[43m_dim\u001b[49m\u001b[43m,\u001b[49m\u001b[43m \u001b[49m\u001b[43mkeepdim\u001b[49m\u001b[43m,\u001b[49m\u001b[43m \u001b[49m\u001b[43mdtype\u001b[49m\u001b[38;5;241;43m=\u001b[39;49m\u001b[43mdtype\u001b[49m\u001b[43m)\u001b[49m\n\u001b[1;32m   1627\u001b[0m \u001b[38;5;28;01melse\u001b[39;00m:\n\u001b[1;32m   1628\u001b[0m     \u001b[38;5;28;01mreturn\u001b[39;00m torch\u001b[38;5;241m.\u001b[39mlinalg\u001b[38;5;241m.\u001b[39mvector_norm(\u001b[38;5;28minput\u001b[39m, _p, _dim, keepdim, dtype\u001b[38;5;241m=\u001b[39mdtype, out\u001b[38;5;241m=\u001b[39mout)\n",
      "\u001b[0;31mKeyboardInterrupt\u001b[0m: "
     ]
    }
   ],
   "source": [
    "with open(\"optimized_kg_predictor_fixed_v2.py\", \"r\") as f:\n",
    "    lines = f.read()\n",
    "    # lines = lines.replace(\"BATCH_SIZE = 1024  # 训练批次大小\", \"BATCH_SIZE = 256  # 训练批次大小\")\n",
    "exec(lines)"
   ]
  },
  {
   "cell_type": "code",
   "execution_count": null,
   "id": "b24c5a7f-ce52-4f7b-ac06-97804053b12e",
   "metadata": {},
   "outputs": [],
   "source": []
  },
  {
   "cell_type": "code",
   "execution_count": null,
   "id": "5c6a710b-9409-43cb-b5c5-d4ce317e8e09",
   "metadata": {},
   "outputs": [],
   "source": []
  },
  {
   "cell_type": "code",
   "execution_count": null,
   "id": "2feb6e30-82a5-47c6-bcfe-87ea0612635c",
   "metadata": {},
   "outputs": [],
   "source": []
  },
  {
   "cell_type": "code",
   "execution_count": null,
   "id": "f7d3898d-c5fd-430d-b016-35a873033f13",
   "metadata": {},
   "outputs": [],
   "source": []
  },
  {
   "cell_type": "code",
   "execution_count": null,
   "id": "d5f7ae10-31cf-4dbe-9438-866902db81b7",
   "metadata": {},
   "outputs": [],
   "source": []
  },
  {
   "cell_type": "code",
   "execution_count": null,
   "id": "2b7b822d-c3df-47e8-9433-910e86ee0283",
   "metadata": {},
   "outputs": [],
   "source": []
  },
  {
   "cell_type": "code",
   "execution_count": null,
   "id": "5c151d10-99d4-4088-b49f-f44ed1e26599",
   "metadata": {},
   "outputs": [],
   "source": []
  },
  {
   "cell_type": "code",
   "execution_count": null,
   "id": "7a3ea110-1f71-4434-8830-feb9b109b3f7",
   "metadata": {},
   "outputs": [],
   "source": []
  },
  {
   "cell_type": "code",
   "execution_count": null,
   "id": "3483499b-6088-4429-9972-dec984b23988",
   "metadata": {},
   "outputs": [],
   "source": []
  },
  {
   "cell_type": "code",
   "execution_count": null,
   "id": "b2e8931a-4daf-474b-96c1-5eadb917a927",
   "metadata": {},
   "outputs": [],
   "source": []
  },
  {
   "cell_type": "code",
   "execution_count": null,
   "id": "92e9ad09-a203-4717-aa44-9da91ecc9dac",
   "metadata": {},
   "outputs": [],
   "source": []
  },
  {
   "cell_type": "code",
   "execution_count": null,
   "id": "f5384579-f3c7-42bf-a743-5fa937e241a1",
   "metadata": {},
   "outputs": [],
   "source": []
  },
  {
   "cell_type": "code",
   "execution_count": null,
   "id": "5cdb2275-33eb-4546-a9fd-d6ddec04074e",
   "metadata": {},
   "outputs": [],
   "source": []
  },
  {
   "cell_type": "code",
   "execution_count": null,
   "id": "f9d36fc6-c728-4937-897e-a6652e97626a",
   "metadata": {},
   "outputs": [],
   "source": []
  },
  {
   "cell_type": "code",
   "execution_count": null,
   "id": "6a12a0d4-8c58-4cdf-8d09-66d8deb11cf0",
   "metadata": {},
   "outputs": [],
   "source": []
  },
  {
   "cell_type": "code",
   "execution_count": null,
   "id": "a3d7a9d8-d338-4b1c-85d8-0033b32cf036",
   "metadata": {},
   "outputs": [],
   "source": []
  },
  {
   "cell_type": "code",
   "execution_count": null,
   "id": "78d54652-dc56-4962-b361-922831452c86",
   "metadata": {},
   "outputs": [],
   "source": []
  },
  {
   "cell_type": "code",
   "execution_count": null,
   "id": "c57d236a-5ac5-460f-86a2-ad5b38cb6e56",
   "metadata": {},
   "outputs": [],
   "source": []
  },
  {
   "cell_type": "code",
   "execution_count": 2,
   "id": "6b7001d4-8631-4258-9711-f6015b061762",
   "metadata": {},
   "outputs": [
    {
     "name": "stdout",
     "output_type": "stream",
     "text": [
      "使用设备: cpu\n",
      "正在加载数据集...\n",
      "训练数据大小: 1242550\n",
      "测试数据大小: 5000\n",
      "开发数据大小: 5000\n",
      "正在构建实体和关系映射...\n",
      "实体数量: 249746\n",
      "关系数量: 500\n",
      "正在创建TransE模型...\n",
      "开始训练模型...\n",
      "\n",
      "Epoch 1/5 训练中...\n"
     ]
    },
    {
     "ename": "AttributeError",
     "evalue": "Can't pickle local object 'train_model.<locals>.custom_collate'",
     "output_type": "error",
     "traceback": [
      "\u001b[0;31m---------------------------------------------------------------------------\u001b[0m",
      "\u001b[0;31mAttributeError\u001b[0m                            Traceback (most recent call last)",
      "Cell \u001b[0;32mIn[2], line 4\u001b[0m\n\u001b[1;32m      2\u001b[0m     lines \u001b[38;5;241m=\u001b[39m f\u001b[38;5;241m.\u001b[39mread()\n\u001b[1;32m      3\u001b[0m     lines \u001b[38;5;241m=\u001b[39m lines\u001b[38;5;241m.\u001b[39mreplace(\u001b[38;5;124m\"\u001b[39m\u001b[38;5;124mBATCH_SIZE = 1024  # 训练批次大小\u001b[39m\u001b[38;5;124m\"\u001b[39m, \u001b[38;5;124m\"\u001b[39m\u001b[38;5;124mBATCH_SIZE = 256  # 训练批次大小\u001b[39m\u001b[38;5;124m\"\u001b[39m)\n\u001b[0;32m----> 4\u001b[0m \u001b[43mexec\u001b[49m\u001b[43m(\u001b[49m\u001b[43mlines\u001b[49m\u001b[43m)\u001b[49m\n",
      "File \u001b[0;32m<string>:539\u001b[0m\n",
      "File \u001b[0;32m<string>:526\u001b[0m, in \u001b[0;36mmain\u001b[0;34m()\u001b[0m\n",
      "File \u001b[0;32m<string>:214\u001b[0m, in \u001b[0;36mtrain_model\u001b[0;34m(model, train_dataset, mapper, device)\u001b[0m\n",
      "File \u001b[0;32m/opt/anaconda3/envs/ml12/lib/python3.12/site-packages/torch/utils/data/dataloader.py:439\u001b[0m, in \u001b[0;36mDataLoader.__iter__\u001b[0;34m(self)\u001b[0m\n\u001b[1;32m    437\u001b[0m     \u001b[38;5;28;01mreturn\u001b[39;00m \u001b[38;5;28mself\u001b[39m\u001b[38;5;241m.\u001b[39m_iterator\n\u001b[1;32m    438\u001b[0m \u001b[38;5;28;01melse\u001b[39;00m:\n\u001b[0;32m--> 439\u001b[0m     \u001b[38;5;28;01mreturn\u001b[39;00m \u001b[38;5;28;43mself\u001b[39;49m\u001b[38;5;241;43m.\u001b[39;49m\u001b[43m_get_iterator\u001b[49m\u001b[43m(\u001b[49m\u001b[43m)\u001b[49m\n",
      "File \u001b[0;32m/opt/anaconda3/envs/ml12/lib/python3.12/site-packages/torch/utils/data/dataloader.py:387\u001b[0m, in \u001b[0;36mDataLoader._get_iterator\u001b[0;34m(self)\u001b[0m\n\u001b[1;32m    385\u001b[0m \u001b[38;5;28;01melse\u001b[39;00m:\n\u001b[1;32m    386\u001b[0m     \u001b[38;5;28mself\u001b[39m\u001b[38;5;241m.\u001b[39mcheck_worker_number_rationality()\n\u001b[0;32m--> 387\u001b[0m     \u001b[38;5;28;01mreturn\u001b[39;00m \u001b[43m_MultiProcessingDataLoaderIter\u001b[49m\u001b[43m(\u001b[49m\u001b[38;5;28;43mself\u001b[39;49m\u001b[43m)\u001b[49m\n",
      "File \u001b[0;32m/opt/anaconda3/envs/ml12/lib/python3.12/site-packages/torch/utils/data/dataloader.py:1040\u001b[0m, in \u001b[0;36m_MultiProcessingDataLoaderIter.__init__\u001b[0;34m(self, loader)\u001b[0m\n\u001b[1;32m   1033\u001b[0m w\u001b[38;5;241m.\u001b[39mdaemon \u001b[38;5;241m=\u001b[39m \u001b[38;5;28;01mTrue\u001b[39;00m\n\u001b[1;32m   1034\u001b[0m \u001b[38;5;66;03m# NB: Process.start() actually take some time as it needs to\u001b[39;00m\n\u001b[1;32m   1035\u001b[0m \u001b[38;5;66;03m#     start a process and pass the arguments over via a pipe.\u001b[39;00m\n\u001b[1;32m   1036\u001b[0m \u001b[38;5;66;03m#     Therefore, we only add a worker to self._workers list after\u001b[39;00m\n\u001b[1;32m   1037\u001b[0m \u001b[38;5;66;03m#     it started, so that we do not call .join() if program dies\u001b[39;00m\n\u001b[1;32m   1038\u001b[0m \u001b[38;5;66;03m#     before it starts, and __del__ tries to join but will get:\u001b[39;00m\n\u001b[1;32m   1039\u001b[0m \u001b[38;5;66;03m#     AssertionError: can only join a started process.\u001b[39;00m\n\u001b[0;32m-> 1040\u001b[0m \u001b[43mw\u001b[49m\u001b[38;5;241;43m.\u001b[39;49m\u001b[43mstart\u001b[49m\u001b[43m(\u001b[49m\u001b[43m)\u001b[49m\n\u001b[1;32m   1041\u001b[0m \u001b[38;5;28mself\u001b[39m\u001b[38;5;241m.\u001b[39m_index_queues\u001b[38;5;241m.\u001b[39mappend(index_queue)\n\u001b[1;32m   1042\u001b[0m \u001b[38;5;28mself\u001b[39m\u001b[38;5;241m.\u001b[39m_workers\u001b[38;5;241m.\u001b[39mappend(w)\n",
      "File \u001b[0;32m/opt/anaconda3/envs/ml12/lib/python3.12/multiprocessing/process.py:121\u001b[0m, in \u001b[0;36mBaseProcess.start\u001b[0;34m(self)\u001b[0m\n\u001b[1;32m    118\u001b[0m \u001b[38;5;28;01massert\u001b[39;00m \u001b[38;5;129;01mnot\u001b[39;00m _current_process\u001b[38;5;241m.\u001b[39m_config\u001b[38;5;241m.\u001b[39mget(\u001b[38;5;124m'\u001b[39m\u001b[38;5;124mdaemon\u001b[39m\u001b[38;5;124m'\u001b[39m), \\\n\u001b[1;32m    119\u001b[0m        \u001b[38;5;124m'\u001b[39m\u001b[38;5;124mdaemonic processes are not allowed to have children\u001b[39m\u001b[38;5;124m'\u001b[39m\n\u001b[1;32m    120\u001b[0m _cleanup()\n\u001b[0;32m--> 121\u001b[0m \u001b[38;5;28mself\u001b[39m\u001b[38;5;241m.\u001b[39m_popen \u001b[38;5;241m=\u001b[39m \u001b[38;5;28;43mself\u001b[39;49m\u001b[38;5;241;43m.\u001b[39;49m\u001b[43m_Popen\u001b[49m\u001b[43m(\u001b[49m\u001b[38;5;28;43mself\u001b[39;49m\u001b[43m)\u001b[49m\n\u001b[1;32m    122\u001b[0m \u001b[38;5;28mself\u001b[39m\u001b[38;5;241m.\u001b[39m_sentinel \u001b[38;5;241m=\u001b[39m \u001b[38;5;28mself\u001b[39m\u001b[38;5;241m.\u001b[39m_popen\u001b[38;5;241m.\u001b[39msentinel\n\u001b[1;32m    123\u001b[0m \u001b[38;5;66;03m# Avoid a refcycle if the target function holds an indirect\u001b[39;00m\n\u001b[1;32m    124\u001b[0m \u001b[38;5;66;03m# reference to the process object (see bpo-30775)\u001b[39;00m\n",
      "File \u001b[0;32m/opt/anaconda3/envs/ml12/lib/python3.12/multiprocessing/context.py:224\u001b[0m, in \u001b[0;36mProcess._Popen\u001b[0;34m(process_obj)\u001b[0m\n\u001b[1;32m    222\u001b[0m \u001b[38;5;129m@staticmethod\u001b[39m\n\u001b[1;32m    223\u001b[0m \u001b[38;5;28;01mdef\u001b[39;00m \u001b[38;5;21m_Popen\u001b[39m(process_obj):\n\u001b[0;32m--> 224\u001b[0m     \u001b[38;5;28;01mreturn\u001b[39;00m \u001b[43m_default_context\u001b[49m\u001b[38;5;241;43m.\u001b[39;49m\u001b[43mget_context\u001b[49m\u001b[43m(\u001b[49m\u001b[43m)\u001b[49m\u001b[38;5;241;43m.\u001b[39;49m\u001b[43mProcess\u001b[49m\u001b[38;5;241;43m.\u001b[39;49m\u001b[43m_Popen\u001b[49m\u001b[43m(\u001b[49m\u001b[43mprocess_obj\u001b[49m\u001b[43m)\u001b[49m\n",
      "File \u001b[0;32m/opt/anaconda3/envs/ml12/lib/python3.12/multiprocessing/context.py:289\u001b[0m, in \u001b[0;36mSpawnProcess._Popen\u001b[0;34m(process_obj)\u001b[0m\n\u001b[1;32m    286\u001b[0m \u001b[38;5;129m@staticmethod\u001b[39m\n\u001b[1;32m    287\u001b[0m \u001b[38;5;28;01mdef\u001b[39;00m \u001b[38;5;21m_Popen\u001b[39m(process_obj):\n\u001b[1;32m    288\u001b[0m     \u001b[38;5;28;01mfrom\u001b[39;00m \u001b[38;5;21;01m.\u001b[39;00m\u001b[38;5;21;01mpopen_spawn_posix\u001b[39;00m \u001b[38;5;28;01mimport\u001b[39;00m Popen\n\u001b[0;32m--> 289\u001b[0m     \u001b[38;5;28;01mreturn\u001b[39;00m \u001b[43mPopen\u001b[49m\u001b[43m(\u001b[49m\u001b[43mprocess_obj\u001b[49m\u001b[43m)\u001b[49m\n",
      "File \u001b[0;32m/opt/anaconda3/envs/ml12/lib/python3.12/multiprocessing/popen_spawn_posix.py:32\u001b[0m, in \u001b[0;36mPopen.__init__\u001b[0;34m(self, process_obj)\u001b[0m\n\u001b[1;32m     30\u001b[0m \u001b[38;5;28;01mdef\u001b[39;00m \u001b[38;5;21m__init__\u001b[39m(\u001b[38;5;28mself\u001b[39m, process_obj):\n\u001b[1;32m     31\u001b[0m     \u001b[38;5;28mself\u001b[39m\u001b[38;5;241m.\u001b[39m_fds \u001b[38;5;241m=\u001b[39m []\n\u001b[0;32m---> 32\u001b[0m     \u001b[38;5;28;43msuper\u001b[39;49m\u001b[43m(\u001b[49m\u001b[43m)\u001b[49m\u001b[38;5;241;43m.\u001b[39;49m\u001b[38;5;21;43m__init__\u001b[39;49m\u001b[43m(\u001b[49m\u001b[43mprocess_obj\u001b[49m\u001b[43m)\u001b[49m\n",
      "File \u001b[0;32m/opt/anaconda3/envs/ml12/lib/python3.12/multiprocessing/popen_fork.py:19\u001b[0m, in \u001b[0;36mPopen.__init__\u001b[0;34m(self, process_obj)\u001b[0m\n\u001b[1;32m     17\u001b[0m \u001b[38;5;28mself\u001b[39m\u001b[38;5;241m.\u001b[39mreturncode \u001b[38;5;241m=\u001b[39m \u001b[38;5;28;01mNone\u001b[39;00m\n\u001b[1;32m     18\u001b[0m \u001b[38;5;28mself\u001b[39m\u001b[38;5;241m.\u001b[39mfinalizer \u001b[38;5;241m=\u001b[39m \u001b[38;5;28;01mNone\u001b[39;00m\n\u001b[0;32m---> 19\u001b[0m \u001b[38;5;28;43mself\u001b[39;49m\u001b[38;5;241;43m.\u001b[39;49m\u001b[43m_launch\u001b[49m\u001b[43m(\u001b[49m\u001b[43mprocess_obj\u001b[49m\u001b[43m)\u001b[49m\n",
      "File \u001b[0;32m/opt/anaconda3/envs/ml12/lib/python3.12/multiprocessing/popen_spawn_posix.py:47\u001b[0m, in \u001b[0;36mPopen._launch\u001b[0;34m(self, process_obj)\u001b[0m\n\u001b[1;32m     45\u001b[0m \u001b[38;5;28;01mtry\u001b[39;00m:\n\u001b[1;32m     46\u001b[0m     reduction\u001b[38;5;241m.\u001b[39mdump(prep_data, fp)\n\u001b[0;32m---> 47\u001b[0m     \u001b[43mreduction\u001b[49m\u001b[38;5;241;43m.\u001b[39;49m\u001b[43mdump\u001b[49m\u001b[43m(\u001b[49m\u001b[43mprocess_obj\u001b[49m\u001b[43m,\u001b[49m\u001b[43m \u001b[49m\u001b[43mfp\u001b[49m\u001b[43m)\u001b[49m\n\u001b[1;32m     48\u001b[0m \u001b[38;5;28;01mfinally\u001b[39;00m:\n\u001b[1;32m     49\u001b[0m     set_spawning_popen(\u001b[38;5;28;01mNone\u001b[39;00m)\n",
      "File \u001b[0;32m/opt/anaconda3/envs/ml12/lib/python3.12/multiprocessing/reduction.py:60\u001b[0m, in \u001b[0;36mdump\u001b[0;34m(obj, file, protocol)\u001b[0m\n\u001b[1;32m     58\u001b[0m \u001b[38;5;28;01mdef\u001b[39;00m \u001b[38;5;21mdump\u001b[39m(obj, file, protocol\u001b[38;5;241m=\u001b[39m\u001b[38;5;28;01mNone\u001b[39;00m):\n\u001b[1;32m     59\u001b[0m \u001b[38;5;250m    \u001b[39m\u001b[38;5;124;03m'''Replacement for pickle.dump() using ForkingPickler.'''\u001b[39;00m\n\u001b[0;32m---> 60\u001b[0m     \u001b[43mForkingPickler\u001b[49m\u001b[43m(\u001b[49m\u001b[43mfile\u001b[49m\u001b[43m,\u001b[49m\u001b[43m \u001b[49m\u001b[43mprotocol\u001b[49m\u001b[43m)\u001b[49m\u001b[38;5;241;43m.\u001b[39;49m\u001b[43mdump\u001b[49m\u001b[43m(\u001b[49m\u001b[43mobj\u001b[49m\u001b[43m)\u001b[49m\n",
      "\u001b[0;31mAttributeError\u001b[0m: Can't pickle local object 'train_model.<locals>.custom_collate'"
     ]
    }
   ],
   "source": [
    "with open(\"optimized_kg_predictor.py\", \"r\") as f:\n",
    "    lines = f.read()\n",
    "    lines = lines.replace(\"BATCH_SIZE = 1024  # 训练批次大小\", \"BATCH_SIZE = 256  # 训练批次大小\")\n",
    "exec(lines)"
   ]
  },
  {
   "cell_type": "code",
   "execution_count": null,
   "id": "afb8db43-6df5-4b5c-bb77-5bf5f101701a",
   "metadata": {},
   "outputs": [],
   "source": []
  },
  {
   "cell_type": "code",
   "execution_count": null,
   "id": "057a23e5-2717-49f6-bce6-ab1bfb35185f",
   "metadata": {},
   "outputs": [],
   "source": []
  },
  {
   "cell_type": "code",
   "execution_count": null,
   "id": "9dca571c-1a0b-4f6e-8f30-f78ed10d52e6",
   "metadata": {},
   "outputs": [],
   "source": []
  },
  {
   "cell_type": "code",
   "execution_count": null,
   "id": "10b52aee-cab0-451b-b87f-b5dab0954f67",
   "metadata": {},
   "outputs": [],
   "source": []
  },
  {
   "cell_type": "code",
   "execution_count": null,
   "id": "aadc5c7e-3d3b-424e-a9bb-5df28d1aa17f",
   "metadata": {},
   "outputs": [],
   "source": []
  },
  {
   "cell_type": "code",
   "execution_count": null,
   "id": "f7eb62ef-7de7-443a-9b2a-e3d063a57c09",
   "metadata": {},
   "outputs": [],
   "source": []
  },
  {
   "cell_type": "code",
   "execution_count": null,
   "id": "e724b01c-108d-453e-9652-d0425b17e7e7",
   "metadata": {},
   "outputs": [],
   "source": []
  },
  {
   "cell_type": "code",
   "execution_count": null,
   "id": "6dafe74d-7644-4a45-bff3-e8867cf2cdc2",
   "metadata": {},
   "outputs": [],
   "source": []
  },
  {
   "cell_type": "code",
   "execution_count": null,
   "id": "aa6cf5d0-499b-4638-8494-310a45be6e6e",
   "metadata": {},
   "outputs": [],
   "source": []
  },
  {
   "cell_type": "code",
   "execution_count": 1,
   "id": "bf43e537-485a-4bb2-8784-e519f1023429",
   "metadata": {},
   "outputs": [
    {
     "name": "stdout",
     "output_type": "stream",
     "text": [
      "使用设备: cuda\n",
      "正在加载数据集...\n",
      "训练数据大小: 1242550\n",
      "测试数据大小: 5000\n",
      "开发数据大小: 5000\n",
      "正在构建实体和关系映射...\n",
      "实体数量: 249746\n",
      "关系数量: 500\n",
      "正在创建TransE模型...\n",
      "开始训练模型...\n",
      "\n",
      "Epoch 1/5 训练中...\n"
     ]
    },
    {
     "name": "stderr",
     "output_type": "stream",
     "text": [
      "<string>:202: FutureWarning: `torch.cuda.amp.GradScaler(args...)` is deprecated. Please use `torch.amp.GradScaler('cuda', args...)` instead.\n",
      "<string>:251: FutureWarning: `torch.cuda.amp.autocast(args...)` is deprecated. Please use `torch.amp.autocast('cuda', args...)` instead.\n"
     ]
    },
    {
     "name": "stdout",
     "output_type": "stream",
     "text": [
      "  Batch 1214/1214 - Loss: 54.1057 - Progress: 100.0%\n",
      "Epoch 1/5 - Average Loss: 281.8368 - LR: 0.001000 - Time: 16.81s\n",
      "\n",
      "Epoch 2/5 训练中...\n",
      "  Batch 1214/1214 - Loss: 20.0546 - Progress: 100.0%\n",
      "Epoch 2/5 - Average Loss: 41.4257 - LR: 0.001000 - Time: 16.61s\n",
      "\n",
      "Epoch 3/5 训练中...\n",
      "  Batch 1214/1214 - Loss: 9.5458 - Progress: 100.0%\n",
      "Epoch 3/5 - Average Loss: 21.9510 - LR: 0.001000 - Time: 16.60s\n",
      "\n",
      "Epoch 4/5 训练中...\n",
      "  Batch 1214/1214 - Loss: 6.4252 - Progress: 100.0%\n",
      "Epoch 4/5 - Average Loss: 15.6664 - LR: 0.001000 - Time: 16.65s\n",
      "\n",
      "Epoch 5/5 训练中...\n",
      "  Batch 1214/1214 - Loss: 6.2769 - Progress: 100.0%\n",
      "Epoch 5/5 - Average Loss: 12.3406 - LR: 0.001000 - Time: 16.61s\n",
      "\n",
      "训练完成，开始在开发集上评估模型性能...\n",
      "\n",
      "开始在开发集上评估模型...\n",
      "将评估 5000 个三元组\n",
      "  评估进度: 100.0% (5000/5000)\n",
      "\n",
      "开发集评估结果:\n",
      "HITS@1: 0.0430\n",
      "HITS@3: 0.4172\n",
      "HITS@10: 0.6810\n",
      "MRR: 0.2579\n",
      "\n",
      "开始预测尾实体...\n",
      "将处理 5000 个头实体/关系对\n",
      "  预测进度: |██████████████████████████████████████████████████| 100.0% (5000/5000)\n",
      "预测结果已保存到 /mnt/d/forCoding_data/Tianchi_EcommerceKG/preprocessedData/OpenBG500_test.tsv\n",
      "任务完成！\n"
     ]
    }
   ],
   "source": [
    "with open(\"optimized_kg_predictor.py\", \"r\") as f:\n",
    "    lines = f.read()\n",
    "exec(lines)"
   ]
  },
  {
   "cell_type": "code",
   "execution_count": null,
   "id": "bd6e1812-abae-4209-b59c-ff444eb7aaf2",
   "metadata": {},
   "outputs": [],
   "source": []
  },
  {
   "cell_type": "code",
   "execution_count": 1,
   "id": "330566d2-2ecb-4c00-8980-ae74deb9add6",
   "metadata": {},
   "outputs": [
    {
     "name": "stderr",
     "output_type": "stream",
     "text": [
      "/home/xiuminke/miniconda3/envs/ml12/lib/python3.11/site-packages/torch/cuda/__init__.py:63: FutureWarning: The pynvml package is deprecated. Please install nvidia-ml-py instead. If you did not install pynvml directly, please report this to the maintainers of the package that installed pynvml for you.\n",
      "  import pynvml  # type: ignore[import]\n"
     ]
    },
    {
     "name": "stdout",
     "output_type": "stream",
     "text": [
      "使用设备: cuda\n",
      "正在加载数据集...\n",
      "训练数据大小: 1242550\n",
      "测试数据大小: 5000\n",
      "开发数据大小: 5000\n",
      "正在构建实体和关系映射...\n",
      "实体数量: 249746\n",
      "关系数量: 500\n",
      "正在创建TransE模型...\n",
      "开始训练模型...\n",
      "\n",
      "Epoch 1/5 训练中...\n"
     ]
    },
    {
     "name": "stderr",
     "output_type": "stream",
     "text": [
      "<string>:202: FutureWarning: `torch.cuda.amp.GradScaler(args...)` is deprecated. Please use `torch.amp.GradScaler('cuda', args...)` instead.\n",
      "<string>:251: FutureWarning: `torch.cuda.amp.autocast(args...)` is deprecated. Please use `torch.amp.autocast('cuda', args...)` instead.\n"
     ]
    },
    {
     "name": "stdout",
     "output_type": "stream",
     "text": [
      "  Batch 4854/4854 - Loss: 24.4807 - Progress: 100.0%\n",
      "Epoch 1/5 - Average Loss: 61.1643 - LR: 0.001000 - Time: 62.75s\n",
      "\n",
      "Epoch 2/5 训练中...\n",
      "  Batch 4854/4854 - Loss: 8.2102 - Progress: 100.0%\n",
      "Epoch 2/5 - Average Loss: 9.1463 - LR: 0.001000 - Time: 62.20s\n",
      "\n",
      "Epoch 3/5 训练中...\n",
      "  Batch 4854/4854 - Loss: 5.2192 - Progress: 100.0%\n",
      "Epoch 3/5 - Average Loss: 5.1128 - LR: 0.001000 - Time: 59.81s\n",
      "\n",
      "Epoch 4/5 训练中...\n",
      "  Batch 4854/4854 - Loss: 5.4111 - Progress: 100.0%\n",
      "Epoch 4/5 - Average Loss: 3.5604 - LR: 0.001000 - Time: 64.14s\n",
      "\n",
      "Epoch 5/5 训练中...\n",
      "  Batch 4854/4854 - Loss: 2.8684 - Progress: 100.0%\n",
      "Epoch 5/5 - Average Loss: 2.6950 - LR: 0.001000 - Time: 62.70s\n",
      "\n",
      "训练完成，开始在开发集上评估模型性能...\n",
      "\n",
      "开始在开发集上评估模型...\n",
      "将评估 5000 个三元组\n",
      "  评估进度: 100.0% (5000/5000)\n",
      "\n",
      "开发集评估结果:\n",
      "HITS@1: 0.1594\n",
      "HITS@3: 0.4320\n",
      "HITS@10: 0.6720\n",
      "MRR: 0.3218\n",
      "\n",
      "开始预测尾实体...\n",
      "将处理 5000 个头实体/关系对\n",
      "  预测进度: |██████████████████████████████████████████████████| 100.0% (5000/5000)\n",
      "预测结果已保存到 /mnt/d/forCoding_data/Tianchi_EcommerceKG/preprocessedData/OpenBG500_test.tsv\n",
      "任务完成！\n"
     ]
    }
   ],
   "source": [
    "with open(\"optimized_kg_predictor.py\", \"r\") as f:\n",
    "    lines = f.read()\n",
    "    lines = lines.replace(\"BATCH_SIZE = 1024  # 训练批次大小\", \"BATCH_SIZE = 256  # 训练批次大小\")\n",
    "exec(lines)"
   ]
  },
  {
   "cell_type": "code",
   "execution_count": null,
   "id": "078fc70d-1217-4ff0-9275-50be27f68adc",
   "metadata": {},
   "outputs": [],
   "source": []
  },
  {
   "cell_type": "code",
   "execution_count": 2,
   "id": "5953eb05-6316-4844-8c5d-08e1b5b0a80c",
   "metadata": {},
   "outputs": [
    {
     "name": "stdout",
     "output_type": "stream",
     "text": [
      "使用设备: cuda\n",
      "正在加载数据集...\n",
      "训练数据大小: 1242550\n",
      "测试数据大小: 5000\n",
      "开发数据大小: 5000\n",
      "正在构建实体和关系映射...\n",
      "实体数量: 249746\n",
      "关系数量: 500\n",
      "正在创建TransE模型...\n",
      "开始训练模型...\n",
      "\n",
      "Epoch 1/5 训练中...\n"
     ]
    },
    {
     "name": "stderr",
     "output_type": "stream",
     "text": [
      "<string>:202: FutureWarning: `torch.cuda.amp.GradScaler(args...)` is deprecated. Please use `torch.amp.GradScaler('cuda', args...)` instead.\n",
      "<string>:251: FutureWarning: `torch.cuda.amp.autocast(args...)` is deprecated. Please use `torch.amp.autocast('cuda', args...)` instead.\n"
     ]
    },
    {
     "name": "stdout",
     "output_type": "stream",
     "text": [
      "  Batch 9708/9708 - Loss: 6.1162 - Progress: 100.0%\n",
      "Epoch 1/5 - Average Loss: 29.4001 - LR: 0.001000 - Time: 127.52s\n",
      "\n",
      "Epoch 2/5 训练中...\n",
      "  Batch 9708/9708 - Loss: 1.8267 - Progress: 100.0%\n",
      "Epoch 2/5 - Average Loss: 5.0030 - LR: 0.001000 - Time: 124.33s\n",
      "\n",
      "Epoch 3/5 训练中...\n",
      "  Batch 9708/9708 - Loss: 3.3309 - Progress: 100.0%\n",
      "Epoch 3/5 - Average Loss: 2.7051 - LR: 0.001000 - Time: 126.39s\n",
      "\n",
      "Epoch 4/5 训练中...\n",
      "  Batch 9708/9708 - Loss: 0.4953 - Progress: 100.0%\n",
      "Epoch 4/5 - Average Loss: 1.8709 - LR: 0.001000 - Time: 127.20s\n",
      "\n",
      "Epoch 5/5 训练中...\n",
      "  Batch 9708/9708 - Loss: 0.0000 - Progress: 100.0%\n",
      "Epoch 5/5 - Average Loss: 1.4314 - LR: 0.001000 - Time: 127.21s\n",
      "\n",
      "训练完成，开始在开发集上评估模型性能...\n",
      "\n",
      "开始在开发集上评估模型...\n",
      "将评估 5000 个三元组\n",
      "  评估进度: 100.0% (5000/5000)\n",
      "\n",
      "开发集评估结果:\n",
      "HITS@1: 0.1662\n",
      "HITS@3: 0.4112\n",
      "HITS@10: 0.6558\n",
      "MRR: 0.3172\n",
      "\n",
      "开始预测尾实体...\n",
      "将处理 5000 个头实体/关系对\n",
      "  预测进度: |██████████████████████████████████████████████████| 100.0% (5000/5000)\n",
      "预测结果已保存到 /mnt/d/forCoding_data/Tianchi_EcommerceKG/preprocessedData/OpenBG500_test.tsv\n",
      "任务完成！\n"
     ]
    }
   ],
   "source": [
    "with open(\"optimized_kg_predictor.py\", \"r\") as f:\n",
    "    lines = f.read()\n",
    "    lines = lines.replace(\"BATCH_SIZE = 1024  # 训练批次大小\", \"BATCH_SIZE = 128  # 训练批次大小\")\n",
    "exec(lines)"
   ]
  },
  {
   "cell_type": "code",
   "execution_count": null,
   "id": "fefb1445-1be8-456e-a881-ed959ed660d6",
   "metadata": {},
   "outputs": [],
   "source": []
  }
 ],
 "metadata": {
  "kernelspec": {
   "display_name": "Python 3 (ipykernel)",
   "language": "python",
   "name": "python3"
  },
  "language_info": {
   "codemirror_mode": {
    "name": "ipython",
    "version": 3
   },
   "file_extension": ".py",
   "mimetype": "text/x-python",
   "name": "python",
   "nbconvert_exporter": "python",
   "pygments_lexer": "ipython3",
   "version": "3.12.0"
  }
 },
 "nbformat": 4,
 "nbformat_minor": 5
}
