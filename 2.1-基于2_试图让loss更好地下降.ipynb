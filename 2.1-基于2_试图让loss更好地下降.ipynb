{
 "cells": [
  {
   "cell_type": "code",
   "execution_count": 1,
   "id": "bf43e537-485a-4bb2-8784-e519f1023429",
   "metadata": {},
   "outputs": [
    {
     "name": "stdout",
     "output_type": "stream",
     "text": [
      "使用设备: cuda\n",
      "正在加载数据集...\n",
      "训练数据大小: 1242550\n",
      "测试数据大小: 5000\n",
      "开发数据大小: 5000\n",
      "正在构建实体和关系映射...\n",
      "实体数量: 249746\n",
      "关系数量: 500\n",
      "正在创建TransE模型...\n",
      "开始训练模型...\n",
      "\n",
      "Epoch 1/5 训练中...\n"
     ]
    },
    {
     "name": "stderr",
     "output_type": "stream",
     "text": [
      "<string>:202: FutureWarning: `torch.cuda.amp.GradScaler(args...)` is deprecated. Please use `torch.amp.GradScaler('cuda', args...)` instead.\n",
      "<string>:251: FutureWarning: `torch.cuda.amp.autocast(args...)` is deprecated. Please use `torch.amp.autocast('cuda', args...)` instead.\n"
     ]
    },
    {
     "name": "stdout",
     "output_type": "stream",
     "text": [
      "  Batch 1214/1214 - Loss: 54.1057 - Progress: 100.0%\n",
      "Epoch 1/5 - Average Loss: 281.8368 - LR: 0.001000 - Time: 16.81s\n",
      "\n",
      "Epoch 2/5 训练中...\n",
      "  Batch 1214/1214 - Loss: 20.0546 - Progress: 100.0%\n",
      "Epoch 2/5 - Average Loss: 41.4257 - LR: 0.001000 - Time: 16.61s\n",
      "\n",
      "Epoch 3/5 训练中...\n",
      "  Batch 1214/1214 - Loss: 9.5458 - Progress: 100.0%\n",
      "Epoch 3/5 - Average Loss: 21.9510 - LR: 0.001000 - Time: 16.60s\n",
      "\n",
      "Epoch 4/5 训练中...\n",
      "  Batch 1214/1214 - Loss: 6.4252 - Progress: 100.0%\n",
      "Epoch 4/5 - Average Loss: 15.6664 - LR: 0.001000 - Time: 16.65s\n",
      "\n",
      "Epoch 5/5 训练中...\n",
      "  Batch 1214/1214 - Loss: 6.2769 - Progress: 100.0%\n",
      "Epoch 5/5 - Average Loss: 12.3406 - LR: 0.001000 - Time: 16.61s\n",
      "\n",
      "训练完成，开始在开发集上评估模型性能...\n",
      "\n",
      "开始在开发集上评估模型...\n",
      "将评估 5000 个三元组\n",
      "  评估进度: 100.0% (5000/5000)\n",
      "\n",
      "开发集评估结果:\n",
      "HITS@1: 0.0430\n",
      "HITS@3: 0.4172\n",
      "HITS@10: 0.6810\n",
      "MRR: 0.2579\n",
      "\n",
      "开始预测尾实体...\n",
      "将处理 5000 个头实体/关系对\n",
      "  预测进度: |██████████████████████████████████████████████████| 100.0% (5000/5000)\n",
      "预测结果已保存到 /mnt/d/forCoding_data/Tianchi_EcommerceKG/preprocessedData/OpenBG500_test.tsv\n",
      "任务完成！\n"
     ]
    }
   ],
   "source": [
    "with open(\"optimized_kg_predictor.py\", \"r\") as f:\n",
    "    lines = f.read()\n",
    "exec(lines)"
   ]
  },
  {
   "cell_type": "code",
   "execution_count": null,
   "id": "bd6e1812-abae-4209-b59c-ff444eb7aaf2",
   "metadata": {},
   "outputs": [],
   "source": []
  },
  {
   "cell_type": "code",
   "execution_count": 1,
   "id": "330566d2-2ecb-4c00-8980-ae74deb9add6",
   "metadata": {},
   "outputs": [
    {
     "name": "stderr",
     "output_type": "stream",
     "text": [
      "/home/xiuminke/miniconda3/envs/ml12/lib/python3.11/site-packages/torch/cuda/__init__.py:63: FutureWarning: The pynvml package is deprecated. Please install nvidia-ml-py instead. If you did not install pynvml directly, please report this to the maintainers of the package that installed pynvml for you.\n",
      "  import pynvml  # type: ignore[import]\n"
     ]
    },
    {
     "name": "stdout",
     "output_type": "stream",
     "text": [
      "使用设备: cuda\n",
      "正在加载数据集...\n",
      "训练数据大小: 1242550\n",
      "测试数据大小: 5000\n",
      "开发数据大小: 5000\n",
      "正在构建实体和关系映射...\n",
      "实体数量: 249746\n",
      "关系数量: 500\n",
      "正在创建TransE模型...\n",
      "开始训练模型...\n",
      "\n",
      "Epoch 1/5 训练中...\n"
     ]
    },
    {
     "name": "stderr",
     "output_type": "stream",
     "text": [
      "<string>:202: FutureWarning: `torch.cuda.amp.GradScaler(args...)` is deprecated. Please use `torch.amp.GradScaler('cuda', args...)` instead.\n",
      "<string>:251: FutureWarning: `torch.cuda.amp.autocast(args...)` is deprecated. Please use `torch.amp.autocast('cuda', args...)` instead.\n"
     ]
    },
    {
     "name": "stdout",
     "output_type": "stream",
     "text": [
      "  Batch 4854/4854 - Loss: 24.4807 - Progress: 100.0%\n",
      "Epoch 1/5 - Average Loss: 61.1643 - LR: 0.001000 - Time: 62.75s\n",
      "\n",
      "Epoch 2/5 训练中...\n",
      "  Batch 4854/4854 - Loss: 8.2102 - Progress: 100.0%\n",
      "Epoch 2/5 - Average Loss: 9.1463 - LR: 0.001000 - Time: 62.20s\n",
      "\n",
      "Epoch 3/5 训练中...\n",
      "  Batch 4854/4854 - Loss: 5.2192 - Progress: 100.0%\n",
      "Epoch 3/5 - Average Loss: 5.1128 - LR: 0.001000 - Time: 59.81s\n",
      "\n",
      "Epoch 4/5 训练中...\n",
      "  Batch 4854/4854 - Loss: 5.4111 - Progress: 100.0%\n",
      "Epoch 4/5 - Average Loss: 3.5604 - LR: 0.001000 - Time: 64.14s\n",
      "\n",
      "Epoch 5/5 训练中...\n",
      "  Batch 4854/4854 - Loss: 2.8684 - Progress: 100.0%\n",
      "Epoch 5/5 - Average Loss: 2.6950 - LR: 0.001000 - Time: 62.70s\n",
      "\n",
      "训练完成，开始在开发集上评估模型性能...\n",
      "\n",
      "开始在开发集上评估模型...\n",
      "将评估 5000 个三元组\n",
      "  评估进度: 100.0% (5000/5000)\n",
      "\n",
      "开发集评估结果:\n",
      "HITS@1: 0.1594\n",
      "HITS@3: 0.4320\n",
      "HITS@10: 0.6720\n",
      "MRR: 0.3218\n",
      "\n",
      "开始预测尾实体...\n",
      "将处理 5000 个头实体/关系对\n",
      "  预测进度: |██████████████████████████████████████████████████| 100.0% (5000/5000)\n",
      "预测结果已保存到 /mnt/d/forCoding_data/Tianchi_EcommerceKG/preprocessedData/OpenBG500_test.tsv\n",
      "任务完成！\n"
     ]
    }
   ],
   "source": [
    "with open(\"optimized_kg_predictor.py\", \"r\") as f:\n",
    "    lines = f.read()\n",
    "    lines = lines.replace(\"BATCH_SIZE = 1024  # 训练批次大小\", \"BATCH_SIZE = 256  # 训练批次大小\")\n",
    "exec(lines)"
   ]
  },
  {
   "cell_type": "code",
   "execution_count": null,
   "id": "078fc70d-1217-4ff0-9275-50be27f68adc",
   "metadata": {},
   "outputs": [],
   "source": []
  },
  {
   "cell_type": "code",
   "execution_count": 2,
   "id": "5953eb05-6316-4844-8c5d-08e1b5b0a80c",
   "metadata": {},
   "outputs": [
    {
     "name": "stdout",
     "output_type": "stream",
     "text": [
      "使用设备: cuda\n",
      "正在加载数据集...\n",
      "训练数据大小: 1242550\n",
      "测试数据大小: 5000\n",
      "开发数据大小: 5000\n",
      "正在构建实体和关系映射...\n",
      "实体数量: 249746\n",
      "关系数量: 500\n",
      "正在创建TransE模型...\n",
      "开始训练模型...\n",
      "\n",
      "Epoch 1/5 训练中...\n"
     ]
    },
    {
     "name": "stderr",
     "output_type": "stream",
     "text": [
      "<string>:202: FutureWarning: `torch.cuda.amp.GradScaler(args...)` is deprecated. Please use `torch.amp.GradScaler('cuda', args...)` instead.\n",
      "<string>:251: FutureWarning: `torch.cuda.amp.autocast(args...)` is deprecated. Please use `torch.amp.autocast('cuda', args...)` instead.\n"
     ]
    },
    {
     "name": "stdout",
     "output_type": "stream",
     "text": [
      "  Batch 9708/9708 - Loss: 6.1162 - Progress: 100.0%\n",
      "Epoch 1/5 - Average Loss: 29.4001 - LR: 0.001000 - Time: 127.52s\n",
      "\n",
      "Epoch 2/5 训练中...\n",
      "  Batch 9708/9708 - Loss: 1.8267 - Progress: 100.0%\n",
      "Epoch 2/5 - Average Loss: 5.0030 - LR: 0.001000 - Time: 124.33s\n",
      "\n",
      "Epoch 3/5 训练中...\n",
      "  Batch 9708/9708 - Loss: 3.3309 - Progress: 100.0%\n",
      "Epoch 3/5 - Average Loss: 2.7051 - LR: 0.001000 - Time: 126.39s\n",
      "\n",
      "Epoch 4/5 训练中...\n",
      "  Batch 9708/9708 - Loss: 0.4953 - Progress: 100.0%\n",
      "Epoch 4/5 - Average Loss: 1.8709 - LR: 0.001000 - Time: 127.20s\n",
      "\n",
      "Epoch 5/5 训练中...\n",
      "  Batch 9708/9708 - Loss: 0.0000 - Progress: 100.0%\n",
      "Epoch 5/5 - Average Loss: 1.4314 - LR: 0.001000 - Time: 127.21s\n",
      "\n",
      "训练完成，开始在开发集上评估模型性能...\n",
      "\n",
      "开始在开发集上评估模型...\n",
      "将评估 5000 个三元组\n",
      "  评估进度: 100.0% (5000/5000)\n",
      "\n",
      "开发集评估结果:\n",
      "HITS@1: 0.1662\n",
      "HITS@3: 0.4112\n",
      "HITS@10: 0.6558\n",
      "MRR: 0.3172\n",
      "\n",
      "开始预测尾实体...\n",
      "将处理 5000 个头实体/关系对\n",
      "  预测进度: |██████████████████████████████████████████████████| 100.0% (5000/5000)\n",
      "预测结果已保存到 /mnt/d/forCoding_data/Tianchi_EcommerceKG/preprocessedData/OpenBG500_test.tsv\n",
      "任务完成！\n"
     ]
    }
   ],
   "source": [
    "with open(\"optimized_kg_predictor.py\", \"r\") as f:\n",
    "    lines = f.read()\n",
    "    lines = lines.replace(\"BATCH_SIZE = 1024  # 训练批次大小\", \"BATCH_SIZE = 128  # 训练批次大小\")\n",
    "exec(lines)"
   ]
  },
  {
   "cell_type": "code",
   "execution_count": null,
   "id": "fefb1445-1be8-456e-a881-ed959ed660d6",
   "metadata": {},
   "outputs": [],
   "source": []
  }
 ],
 "metadata": {
  "kernelspec": {
   "display_name": "Python 3 (ipykernel)",
   "language": "python",
   "name": "python3"
  },
  "language_info": {
   "codemirror_mode": {
    "name": "ipython",
    "version": 3
   },
   "file_extension": ".py",
   "mimetype": "text/x-python",
   "name": "python",
   "nbconvert_exporter": "python",
   "pygments_lexer": "ipython3",
   "version": "3.11.13"
  }
 },
 "nbformat": 4,
 "nbformat_minor": 5
}
