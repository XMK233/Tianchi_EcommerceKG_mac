{
 "cells": [
  {
   "cell_type": "code",
   "execution_count": 2,
   "id": "210d1306-ac6a-4d5f-9212-4372018a63d8",
   "metadata": {},
   "outputs": [
    {
     "name": "stdout",
     "output_type": "stream",
     "text": [
      "storage dir: /mnt/d/forCoding_data/Tianchi_EcommerceKG\n",
      "code dir: /mnt/d/forCoding_code/Tianchi_EcommerceKG\n"
     ]
    }
   ],
   "source": [
    "import random, os, tqdm, time, json, re\n",
    "import numpy as np\n",
    "import pandas as pd\n",
    "from matplotlib.font_manager import FontProperties\n",
    "import matplotlib.pyplot as plt\n",
    "from datetime import datetime\n",
    "\n",
    "import sys\n",
    "random.seed(618)\n",
    "np.random.seed(907)\n",
    "\n",
    "sys.path.append(\"../\")\n",
    "## mac环境\n",
    "# new_base_path = os.path.join(\n",
    "#     \"/Users/minkexiu/Downloads/\",\n",
    "#     \"/\".join(\n",
    "#         os.getcwd().split(\"/\")[-1*(len(sys.path[-1].split(\"/\")) - 1):]\n",
    "#     ),\n",
    "# )\n",
    "## WSL环境\n",
    "new_base_path = os.path.join(\n",
    "    \"/mnt/d/forCoding_data/\",\n",
    "    \"/\".join(\n",
    "        os.getcwd().split(\"/\")[-1*(len(sys.path[-1].split(\"/\")) - 1):]\n",
    "    ),\n",
    ")\n",
    "## wWindows环境\n",
    "# sys.path.append(\"..\\\\..\\\\\")\n",
    "# new_base_path = os.path.join(\n",
    "#     \"D:\\\\forCoding_data\\\\\",\n",
    "#     \"\\\\\".join(\n",
    "#         os.getcwd().split(\"\\\\\")[-1*(len(sys.path[-1].split(\"\\\\\")) - 1):]\n",
    "#     ),\n",
    "# )\n",
    "\n",
    "print(\"storage dir:\", new_base_path)\n",
    "print(\"code dir:\", os.getcwd())"
   ]
  },
  {
   "cell_type": "code",
   "execution_count": 3,
   "id": "057e7d4a-a986-46aa-9bfd-345d4ec4f543",
   "metadata": {},
   "outputs": [],
   "source": [
    "## 创建文件夹。\n",
    "if not os.path.exists(new_base_path):\n",
    "    os.makedirs(\n",
    "        new_base_path\n",
    "    )\n",
    "if not os.path.exists(os.path.join(new_base_path, \"preprocessedData\")):\n",
    "    os.makedirs(\n",
    "        os.path.join(new_base_path, \"preprocessedData\")\n",
    "    )\n",
    "if not os.path.exists(os.path.join(new_base_path, \"originalData\")):\n",
    "    os.makedirs(\n",
    "        os.path.join(new_base_path, \"originalData\")\n",
    "    )\n",
    "if not os.path.exists(os.path.join(new_base_path, \"trained_models\")):\n",
    "    os.makedirs(\n",
    "        os.path.join(new_base_path, \"trained_models\")\n",
    "    )\n",
    "\n",
    "def create_originalData_path(filename_or_path):\n",
    "    return os.path.join(new_base_path, \"originalData\", filename_or_path)\n",
    "def create_preprocessedData_path(filename_or_path):\n",
    "    return os.path.join(new_base_path, \"preprocessedData\", filename_or_path)\n",
    "def create_trained_models_path(filename_or_path):\n",
    "    return os.path.join(new_base_path, \"trained_models\", filename_or_path)\n",
    "\n",
    "def millisec2datetime(timestamp):\n",
    "    time_local = time.localtime(timestamp/1000)\n",
    "    return time.strftime(\"%Y-%m-%d %H:%M:%S\", time_local)\n",
    "    \n",
    "def run_finish():\n",
    "    # 假设你的字体文件是 'myfont.ttf' 并且位于当前目录下  \n",
    "    font = FontProperties(fname=\"/mnt/d/SimHei.ttf\", size=24)  \n",
    "    # 创建一个空白的图形  \n",
    "    fig, ax = plt.subplots()  \n",
    "    ax.imshow(\n",
    "        \n",
    "        plt.imread(\"/mnt/c/Users/Administrator/Pictures/Saved Pictures/ComfyUI_00044_.png\")\n",
    "    )\n",
    "    # 在图形中添加文字  \n",
    "    ax.text(\n",
    "        ax.get_xlim()[1] * 0.5, \n",
    "        ax.get_ylim()[0] * 0.5, \n",
    "        f\"程序于这个点跑完：\\n{millisec2datetime(time.time()*1000)}\", fontproperties=font, ha=\"center\", va=\"center\", color=\"red\"\n",
    "    )  \n",
    "    # 设置图形的布局  \n",
    "    # ax.set_xlim(0, 1)  \n",
    "    # ax.set_ylim(0, 1)  \n",
    "    ax.set_xticks([])  \n",
    "    ax.set_yticks([])  \n",
    "    ax.patch.set_color(\"blue\")\n",
    "    # 显示图形  \n",
    "    plt.show()\n",
    "        \n",
    "tqdm.tqdm.pandas() ## 引入这个，就可以在apply的时候用progress_apply了。\n",
    "\n",
    "import IPython\n",
    "def kill_current_kernel():\n",
    "    '''杀死当前的kernel释放内存空间。'''\n",
    "    IPython.Application.instance().kernel.do_shutdown(True) \n",
    "    \n",
    "def simply_show_data(df1):\n",
    "    print(df1.shape)\n",
    "    display(df1.head())\n",
    "    \n",
    "def wait_flag(saved_flag_path, time_interval_sec=10):\n",
    "    print(\"waiting for\", saved_flag_path)\n",
    "    time_count = 0\n",
    "    while True:\n",
    "        if os.path.exists(saved_flag_path):\n",
    "            break\n",
    "        time.sleep(time_interval_sec)\n",
    "        time_count+=time_interval_sec\n",
    "        print(time_count, end=\" \")\n",
    "    print(\"finish!!\")\n",
    "\n",
    "class TimerContext:  \n",
    "    def __enter__(self):  \n",
    "        self.start_time = str(datetime.now())\n",
    "        print(\"start time:\", self.start_time)\n",
    "        return self  \n",
    "    def __exit__(self, exc_type, exc_val, exc_tb):  \n",
    "        print(\"start time:\", self.start_time)\n",
    "        print(\"end time\", str(datetime.now()))"
   ]
  },
  {
   "cell_type": "code",
   "execution_count": 35,
   "id": "c171db9b-ca30-4471-9142-6319162631e6",
   "metadata": {},
   "outputs": [
    {
     "data": {
      "text/plain": [
       "14541"
      ]
     },
     "execution_count": 35,
     "metadata": {},
     "output_type": "execute_result"
    }
   ],
   "source": [
    "train_data.num_nodes"
   ]
  },
  {
   "cell_type": "code",
   "execution_count": 36,
   "id": "25fe3a96-7b5c-4eb9-ac07-18785c645fee",
   "metadata": {},
   "outputs": [
    {
     "data": {
      "text/plain": [
       "237"
      ]
     },
     "execution_count": 36,
     "metadata": {},
     "output_type": "execute_result"
    }
   ],
   "source": [
    "train_data.num_edge_types"
   ]
  },
  {
   "cell_type": "code",
   "execution_count": 37,
   "id": "11eb1260-8dda-4ac5-853c-2d9959b442d9",
   "metadata": {},
   "outputs": [
    {
     "data": {
      "text/plain": [
       "0"
      ]
     },
     "execution_count": 37,
     "metadata": {},
     "output_type": "execute_result"
    }
   ],
   "source": [
    "train_data."
   ]
  },
  {
   "cell_type": "code",
   "execution_count": 34,
   "id": "06e3a169-933d-4099-8ad8-5e3c23aee178",
   "metadata": {},
   "outputs": [
    {
     "name": "stderr",
     "output_type": "stream",
     "text": [
      "Processing...\n",
      "Done!\n"
     ]
    },
    {
     "name": "stdout",
     "output_type": "stream",
     "text": [
      "Epoch: 001, Loss: 0.7585\n",
      "Epoch: 002, Loss: 0.5556\n",
      "Epoch: 003, Loss: 0.4352\n",
      "Epoch: 004, Loss: 0.3487\n",
      "Epoch: 005, Loss: 0.2984\n",
      "Epoch: 006, Loss: 0.2655\n",
      "Epoch: 007, Loss: 0.2421\n",
      "Epoch: 008, Loss: 0.2265\n",
      "Epoch: 009, Loss: 0.2150\n",
      "Epoch: 010, Loss: 0.2044\n",
      "Epoch: 011, Loss: 0.1961\n",
      "Epoch: 012, Loss: 0.1888\n",
      "Epoch: 013, Loss: 0.1826\n",
      "Epoch: 014, Loss: 0.1788\n",
      "Epoch: 015, Loss: 0.1742\n",
      "Epoch: 016, Loss: 0.1699\n",
      "Epoch: 017, Loss: 0.1666\n",
      "Epoch: 018, Loss: 0.1622\n",
      "Epoch: 019, Loss: 0.1589\n",
      "Epoch: 020, Loss: 0.1569\n",
      "Epoch: 021, Loss: 0.1541\n",
      "Epoch: 022, Loss: 0.1525\n",
      "Epoch: 023, Loss: 0.1488\n",
      "Epoch: 024, Loss: 0.1469\n",
      "Epoch: 025, Loss: 0.1449\n"
     ]
    },
    {
     "name": "stderr",
     "output_type": "stream",
     "text": [
      "100%|███████████████████████████████████████████████████████████████████████████| 17535/17535 [00:06<00:00, 2775.94it/s]\n"
     ]
    },
    {
     "name": "stdout",
     "output_type": "stream",
     "text": [
      "Epoch: 025, Val Mean Rank: 404.47, Val MRR: 0.2236, Val Hits@10: 0.3670\n",
      "Epoch: 026, Loss: 0.1436\n",
      "Epoch: 027, Loss: 0.1422\n",
      "Epoch: 028, Loss: 0.1404\n",
      "Epoch: 029, Loss: 0.1384\n",
      "Epoch: 030, Loss: 0.1371\n",
      "Epoch: 031, Loss: 0.1357\n",
      "Epoch: 032, Loss: 0.1342\n",
      "Epoch: 033, Loss: 0.1327\n",
      "Epoch: 034, Loss: 0.1314\n",
      "Epoch: 035, Loss: 0.1307\n",
      "Epoch: 036, Loss: 0.1294\n",
      "Epoch: 037, Loss: 0.1280\n",
      "Epoch: 038, Loss: 0.1270\n",
      "Epoch: 039, Loss: 0.1266\n",
      "Epoch: 040, Loss: 0.1251\n",
      "Epoch: 041, Loss: 0.1250\n",
      "Epoch: 042, Loss: 0.1247\n",
      "Epoch: 043, Loss: 0.1221\n",
      "Epoch: 044, Loss: 0.1219\n",
      "Epoch: 045, Loss: 0.1217\n",
      "Epoch: 046, Loss: 0.1204\n",
      "Epoch: 047, Loss: 0.1198\n",
      "Epoch: 048, Loss: 0.1189\n",
      "Epoch: 049, Loss: 0.1179\n",
      "Epoch: 050, Loss: 0.1173\n"
     ]
    },
    {
     "name": "stderr",
     "output_type": "stream",
     "text": [
      "100%|███████████████████████████████████████████████████████████████████████████| 17535/17535 [00:06<00:00, 2758.70it/s]\n"
     ]
    },
    {
     "name": "stdout",
     "output_type": "stream",
     "text": [
      "Epoch: 050, Val Mean Rank: 345.49, Val MRR: 0.2189, Val Hits@10: 0.3686\n",
      "Epoch: 051, Loss: 0.1170\n",
      "Epoch: 052, Loss: 0.1155\n",
      "Epoch: 053, Loss: 0.1154\n",
      "Epoch: 054, Loss: 0.1147\n",
      "Epoch: 055, Loss: 0.1141\n",
      "Epoch: 056, Loss: 0.1136\n",
      "Epoch: 057, Loss: 0.1127\n",
      "Epoch: 058, Loss: 0.1119\n",
      "Epoch: 059, Loss: 0.1116\n",
      "Epoch: 060, Loss: 0.1117\n",
      "Epoch: 061, Loss: 0.1108\n",
      "Epoch: 062, Loss: 0.1101\n",
      "Epoch: 063, Loss: 0.1091\n",
      "Epoch: 064, Loss: 0.1097\n",
      "Epoch: 065, Loss: 0.1093\n",
      "Epoch: 066, Loss: 0.1075\n",
      "Epoch: 067, Loss: 0.1081\n",
      "Epoch: 068, Loss: 0.1069\n",
      "Epoch: 069, Loss: 0.1077\n",
      "Epoch: 070, Loss: 0.1071\n",
      "Epoch: 071, Loss: 0.1061\n",
      "Epoch: 072, Loss: 0.1063\n",
      "Epoch: 073, Loss: 0.1053\n",
      "Epoch: 074, Loss: 0.1045\n",
      "Epoch: 075, Loss: 0.1052\n"
     ]
    },
    {
     "name": "stderr",
     "output_type": "stream",
     "text": [
      "100%|███████████████████████████████████████████████████████████████████████████| 17535/17535 [00:06<00:00, 2741.52it/s]\n"
     ]
    },
    {
     "name": "stdout",
     "output_type": "stream",
     "text": [
      "Epoch: 075, Val Mean Rank: 316.07, Val MRR: 0.2101, Val Hits@10: 0.3604\n",
      "Epoch: 076, Loss: 0.1048\n",
      "Epoch: 077, Loss: 0.1050\n",
      "Epoch: 078, Loss: 0.1039\n",
      "Epoch: 079, Loss: 0.1032\n",
      "Epoch: 080, Loss: 0.1030\n",
      "Epoch: 081, Loss: 0.1036\n",
      "Epoch: 082, Loss: 0.1023\n",
      "Epoch: 083, Loss: 0.1016\n",
      "Epoch: 084, Loss: 0.1019\n",
      "Epoch: 085, Loss: 0.1014\n",
      "Epoch: 086, Loss: 0.1020\n",
      "Epoch: 087, Loss: 0.1004\n",
      "Epoch: 088, Loss: 0.1009\n",
      "Epoch: 089, Loss: 0.1007\n",
      "Epoch: 090, Loss: 0.0999\n",
      "Epoch: 091, Loss: 0.0995\n",
      "Epoch: 092, Loss: 0.0998\n",
      "Epoch: 093, Loss: 0.0996\n",
      "Epoch: 094, Loss: 0.0992\n",
      "Epoch: 095, Loss: 0.0985\n",
      "Epoch: 096, Loss: 0.0989\n",
      "Epoch: 097, Loss: 0.0980\n",
      "Epoch: 098, Loss: 0.0976\n",
      "Epoch: 099, Loss: 0.0972\n",
      "Epoch: 100, Loss: 0.0979\n"
     ]
    },
    {
     "name": "stderr",
     "output_type": "stream",
     "text": [
      "100%|███████████████████████████████████████████████████████████████████████████| 17535/17535 [00:06<00:00, 2788.80it/s]\n"
     ]
    },
    {
     "name": "stdout",
     "output_type": "stream",
     "text": [
      "Epoch: 100, Val Mean Rank: 307.71, Val MRR: 0.2211, Val Hits@10: 0.3698\n",
      "Epoch: 101, Loss: 0.0981\n",
      "Epoch: 102, Loss: 0.0971\n",
      "Epoch: 103, Loss: 0.0967\n",
      "Epoch: 104, Loss: 0.0962\n",
      "Epoch: 105, Loss: 0.0967\n",
      "Epoch: 106, Loss: 0.0967\n",
      "Epoch: 107, Loss: 0.0968\n",
      "Epoch: 108, Loss: 0.0954\n",
      "Epoch: 109, Loss: 0.0954\n",
      "Epoch: 110, Loss: 0.0952\n",
      "Epoch: 111, Loss: 0.0957\n",
      "Epoch: 112, Loss: 0.0957\n",
      "Epoch: 113, Loss: 0.0957\n",
      "Epoch: 114, Loss: 0.0955\n",
      "Epoch: 115, Loss: 0.0962\n",
      "Epoch: 116, Loss: 0.0954\n",
      "Epoch: 117, Loss: 0.0957\n",
      "Epoch: 118, Loss: 0.0940\n",
      "Epoch: 119, Loss: 0.0945\n",
      "Epoch: 120, Loss: 0.0946\n",
      "Epoch: 121, Loss: 0.0945\n",
      "Epoch: 122, Loss: 0.0938\n",
      "Epoch: 123, Loss: 0.0934\n",
      "Epoch: 124, Loss: 0.0941\n",
      "Epoch: 125, Loss: 0.0940\n"
     ]
    },
    {
     "name": "stderr",
     "output_type": "stream",
     "text": [
      "100%|███████████████████████████████████████████████████████████████████████████| 17535/17535 [00:06<00:00, 2762.53it/s]\n"
     ]
    },
    {
     "name": "stdout",
     "output_type": "stream",
     "text": [
      "Epoch: 125, Val Mean Rank: 292.94, Val MRR: 0.2204, Val Hits@10: 0.3725\n",
      "Epoch: 126, Loss: 0.0923\n",
      "Epoch: 127, Loss: 0.0934\n",
      "Epoch: 128, Loss: 0.0936\n",
      "Epoch: 129, Loss: 0.0932\n",
      "Epoch: 130, Loss: 0.0932\n",
      "Epoch: 131, Loss: 0.0931\n",
      "Epoch: 132, Loss: 0.0932\n",
      "Epoch: 133, Loss: 0.0923\n",
      "Epoch: 134, Loss: 0.0919\n",
      "Epoch: 135, Loss: 0.0925\n",
      "Epoch: 136, Loss: 0.0931\n",
      "Epoch: 137, Loss: 0.0924\n",
      "Epoch: 138, Loss: 0.0914\n",
      "Epoch: 139, Loss: 0.0918\n",
      "Epoch: 140, Loss: 0.0921\n",
      "Epoch: 141, Loss: 0.0918\n",
      "Epoch: 142, Loss: 0.0920\n",
      "Epoch: 143, Loss: 0.0926\n",
      "Epoch: 144, Loss: 0.0913\n",
      "Epoch: 145, Loss: 0.0917\n",
      "Epoch: 146, Loss: 0.0916\n",
      "Epoch: 147, Loss: 0.0916\n",
      "Epoch: 148, Loss: 0.0913\n",
      "Epoch: 149, Loss: 0.0910\n",
      "Epoch: 150, Loss: 0.0907\n"
     ]
    },
    {
     "name": "stderr",
     "output_type": "stream",
     "text": [
      "100%|███████████████████████████████████████████████████████████████████████████| 17535/17535 [00:06<00:00, 2751.87it/s]\n"
     ]
    },
    {
     "name": "stdout",
     "output_type": "stream",
     "text": [
      "Epoch: 150, Val Mean Rank: 287.44, Val MRR: 0.2200, Val Hits@10: 0.3684\n",
      "Epoch: 151, Loss: 0.0911\n",
      "Epoch: 152, Loss: 0.0910\n",
      "Epoch: 153, Loss: 0.0907\n",
      "Epoch: 154, Loss: 0.0904\n",
      "Epoch: 155, Loss: 0.0896\n",
      "Epoch: 156, Loss: 0.0913\n",
      "Epoch: 157, Loss: 0.0905\n",
      "Epoch: 158, Loss: 0.0905\n",
      "Epoch: 159, Loss: 0.0897\n",
      "Epoch: 160, Loss: 0.0897\n",
      "Epoch: 161, Loss: 0.0898\n",
      "Epoch: 162, Loss: 0.0900\n",
      "Epoch: 163, Loss: 0.0901\n",
      "Epoch: 164, Loss: 0.0899\n",
      "Epoch: 165, Loss: 0.0898\n",
      "Epoch: 166, Loss: 0.0898\n",
      "Epoch: 167, Loss: 0.0896\n",
      "Epoch: 168, Loss: 0.0895\n",
      "Epoch: 169, Loss: 0.0895\n",
      "Epoch: 170, Loss: 0.0892\n",
      "Epoch: 171, Loss: 0.0897\n",
      "Epoch: 172, Loss: 0.0887\n",
      "Epoch: 173, Loss: 0.0888\n",
      "Epoch: 174, Loss: 0.0891\n",
      "Epoch: 175, Loss: 0.0886\n"
     ]
    },
    {
     "name": "stderr",
     "output_type": "stream",
     "text": [
      "100%|███████████████████████████████████████████████████████████████████████████| 17535/17535 [00:06<00:00, 2701.92it/s]\n"
     ]
    },
    {
     "name": "stdout",
     "output_type": "stream",
     "text": [
      "Epoch: 175, Val Mean Rank: 277.44, Val MRR: 0.2160, Val Hits@10: 0.3771\n",
      "Epoch: 176, Loss: 0.0887\n",
      "Epoch: 177, Loss: 0.0878\n",
      "Epoch: 178, Loss: 0.0890\n",
      "Epoch: 179, Loss: 0.0886\n",
      "Epoch: 180, Loss: 0.0880\n",
      "Epoch: 181, Loss: 0.0877\n",
      "Epoch: 182, Loss: 0.0880\n",
      "Epoch: 183, Loss: 0.0886\n",
      "Epoch: 184, Loss: 0.0874\n",
      "Epoch: 185, Loss: 0.0873\n",
      "Epoch: 186, Loss: 0.0883\n",
      "Epoch: 187, Loss: 0.0888\n",
      "Epoch: 188, Loss: 0.0880\n",
      "Epoch: 189, Loss: 0.0874\n",
      "Epoch: 190, Loss: 0.0880\n",
      "Epoch: 191, Loss: 0.0882\n",
      "Epoch: 192, Loss: 0.0870\n",
      "Epoch: 193, Loss: 0.0874\n",
      "Epoch: 194, Loss: 0.0878\n",
      "Epoch: 195, Loss: 0.0874\n",
      "Epoch: 196, Loss: 0.0873\n",
      "Epoch: 197, Loss: 0.0877\n",
      "Epoch: 198, Loss: 0.0872\n",
      "Epoch: 199, Loss: 0.0874\n",
      "Epoch: 200, Loss: 0.0864\n"
     ]
    },
    {
     "name": "stderr",
     "output_type": "stream",
     "text": [
      "100%|███████████████████████████████████████████████████████████████████████████| 17535/17535 [00:06<00:00, 2739.20it/s]\n"
     ]
    },
    {
     "name": "stdout",
     "output_type": "stream",
     "text": [
      "Epoch: 200, Val Mean Rank: 276.71, Val MRR: 0.2197, Val Hits@10: 0.3674\n",
      "Epoch: 201, Loss: 0.0872\n",
      "Epoch: 202, Loss: 0.0869\n",
      "Epoch: 203, Loss: 0.0870\n",
      "Epoch: 204, Loss: 0.0873\n",
      "Epoch: 205, Loss: 0.0874\n",
      "Epoch: 206, Loss: 0.0872\n",
      "Epoch: 207, Loss: 0.0868\n",
      "Epoch: 208, Loss: 0.0868\n",
      "Epoch: 209, Loss: 0.0875\n",
      "Epoch: 210, Loss: 0.0866\n",
      "Epoch: 211, Loss: 0.0867\n",
      "Epoch: 212, Loss: 0.0862\n",
      "Epoch: 213, Loss: 0.0871\n",
      "Epoch: 214, Loss: 0.0866\n",
      "Epoch: 215, Loss: 0.0871\n",
      "Epoch: 216, Loss: 0.0869\n",
      "Epoch: 217, Loss: 0.0857\n",
      "Epoch: 218, Loss: 0.0859\n",
      "Epoch: 219, Loss: 0.0862\n",
      "Epoch: 220, Loss: 0.0872\n",
      "Epoch: 221, Loss: 0.0858\n",
      "Epoch: 222, Loss: 0.0864\n",
      "Epoch: 223, Loss: 0.0861\n",
      "Epoch: 224, Loss: 0.0854\n",
      "Epoch: 225, Loss: 0.0862\n"
     ]
    },
    {
     "name": "stderr",
     "output_type": "stream",
     "text": [
      "100%|███████████████████████████████████████████████████████████████████████████| 17535/17535 [00:06<00:00, 2751.53it/s]\n"
     ]
    },
    {
     "name": "stdout",
     "output_type": "stream",
     "text": [
      "Epoch: 225, Val Mean Rank: 273.57, Val MRR: 0.2156, Val Hits@10: 0.3701\n",
      "Epoch: 226, Loss: 0.0863\n",
      "Epoch: 227, Loss: 0.0853\n",
      "Epoch: 228, Loss: 0.0859\n",
      "Epoch: 229, Loss: 0.0858\n",
      "Epoch: 230, Loss: 0.0855\n",
      "Epoch: 231, Loss: 0.0855\n",
      "Epoch: 232, Loss: 0.0849\n",
      "Epoch: 233, Loss: 0.0856\n",
      "Epoch: 234, Loss: 0.0857\n",
      "Epoch: 235, Loss: 0.0855\n",
      "Epoch: 236, Loss: 0.0853\n",
      "Epoch: 237, Loss: 0.0859\n",
      "Epoch: 238, Loss: 0.0851\n",
      "Epoch: 239, Loss: 0.0854\n",
      "Epoch: 240, Loss: 0.0854\n",
      "Epoch: 241, Loss: 0.0853\n",
      "Epoch: 242, Loss: 0.0858\n",
      "Epoch: 243, Loss: 0.0846\n",
      "Epoch: 244, Loss: 0.0848\n",
      "Epoch: 245, Loss: 0.0856\n",
      "Epoch: 246, Loss: 0.0850\n",
      "Epoch: 247, Loss: 0.0855\n",
      "Epoch: 248, Loss: 0.0856\n",
      "Epoch: 249, Loss: 0.0847\n",
      "Epoch: 250, Loss: 0.0849\n"
     ]
    },
    {
     "name": "stderr",
     "output_type": "stream",
     "text": [
      "100%|███████████████████████████████████████████████████████████████████████████| 17535/17535 [00:06<00:00, 2740.96it/s]\n"
     ]
    },
    {
     "name": "stdout",
     "output_type": "stream",
     "text": [
      "Epoch: 250, Val Mean Rank: 271.63, Val MRR: 0.2244, Val Hits@10: 0.3700\n",
      "Epoch: 251, Loss: 0.0842\n",
      "Epoch: 252, Loss: 0.0838\n",
      "Epoch: 253, Loss: 0.0846\n",
      "Epoch: 254, Loss: 0.0844\n",
      "Epoch: 255, Loss: 0.0853\n",
      "Epoch: 256, Loss: 0.0849\n",
      "Epoch: 257, Loss: 0.0833\n",
      "Epoch: 258, Loss: 0.0843\n",
      "Epoch: 259, Loss: 0.0849\n",
      "Epoch: 260, Loss: 0.0839\n",
      "Epoch: 261, Loss: 0.0844\n",
      "Epoch: 262, Loss: 0.0842\n",
      "Epoch: 263, Loss: 0.0845\n",
      "Epoch: 264, Loss: 0.0840\n",
      "Epoch: 265, Loss: 0.0842\n",
      "Epoch: 266, Loss: 0.0841\n",
      "Epoch: 267, Loss: 0.0841\n",
      "Epoch: 268, Loss: 0.0844\n",
      "Epoch: 269, Loss: 0.0836\n",
      "Epoch: 270, Loss: 0.0839\n",
      "Epoch: 271, Loss: 0.0845\n",
      "Epoch: 272, Loss: 0.0839\n",
      "Epoch: 273, Loss: 0.0841\n",
      "Epoch: 274, Loss: 0.0832\n",
      "Epoch: 275, Loss: 0.0836\n"
     ]
    },
    {
     "name": "stderr",
     "output_type": "stream",
     "text": [
      "100%|███████████████████████████████████████████████████████████████████████████| 17535/17535 [00:06<00:00, 2782.46it/s]\n"
     ]
    },
    {
     "name": "stdout",
     "output_type": "stream",
     "text": [
      "Epoch: 275, Val Mean Rank: 269.68, Val MRR: 0.2277, Val Hits@10: 0.3731\n",
      "Epoch: 276, Loss: 0.0832\n",
      "Epoch: 277, Loss: 0.0843\n",
      "Epoch: 278, Loss: 0.0840\n",
      "Epoch: 279, Loss: 0.0836\n",
      "Epoch: 280, Loss: 0.0837\n",
      "Epoch: 281, Loss: 0.0841\n",
      "Epoch: 282, Loss: 0.0836\n",
      "Epoch: 283, Loss: 0.0837\n",
      "Epoch: 284, Loss: 0.0843\n",
      "Epoch: 285, Loss: 0.0838\n",
      "Epoch: 286, Loss: 0.0831\n",
      "Epoch: 287, Loss: 0.0840\n",
      "Epoch: 288, Loss: 0.0834\n",
      "Epoch: 289, Loss: 0.0840\n",
      "Epoch: 290, Loss: 0.0830\n",
      "Epoch: 291, Loss: 0.0832\n",
      "Epoch: 292, Loss: 0.0838\n",
      "Epoch: 293, Loss: 0.0836\n",
      "Epoch: 294, Loss: 0.0818\n",
      "Epoch: 295, Loss: 0.0831\n",
      "Epoch: 296, Loss: 0.0831\n",
      "Epoch: 297, Loss: 0.0836\n",
      "Epoch: 298, Loss: 0.0840\n",
      "Epoch: 299, Loss: 0.0827\n",
      "Epoch: 300, Loss: 0.0829\n"
     ]
    },
    {
     "name": "stderr",
     "output_type": "stream",
     "text": [
      "100%|███████████████████████████████████████████████████████████████████████████| 17535/17535 [00:06<00:00, 2781.77it/s]\n"
     ]
    },
    {
     "name": "stdout",
     "output_type": "stream",
     "text": [
      "Epoch: 300, Val Mean Rank: 270.12, Val MRR: 0.2249, Val Hits@10: 0.3729\n",
      "Epoch: 301, Loss: 0.0832\n",
      "Epoch: 302, Loss: 0.0835\n",
      "Epoch: 303, Loss: 0.0825\n",
      "Epoch: 304, Loss: 0.0831\n",
      "Epoch: 305, Loss: 0.0829\n",
      "Epoch: 306, Loss: 0.0829\n",
      "Epoch: 307, Loss: 0.0835\n",
      "Epoch: 308, Loss: 0.0826\n",
      "Epoch: 309, Loss: 0.0823\n",
      "Epoch: 310, Loss: 0.0831\n",
      "Epoch: 311, Loss: 0.0824\n",
      "Epoch: 312, Loss: 0.0831\n",
      "Epoch: 313, Loss: 0.0819\n",
      "Epoch: 314, Loss: 0.0823\n",
      "Epoch: 315, Loss: 0.0826\n",
      "Epoch: 316, Loss: 0.0822\n",
      "Epoch: 317, Loss: 0.0829\n",
      "Epoch: 318, Loss: 0.0825\n",
      "Epoch: 319, Loss: 0.0820\n",
      "Epoch: 320, Loss: 0.0821\n",
      "Epoch: 321, Loss: 0.0824\n",
      "Epoch: 322, Loss: 0.0829\n",
      "Epoch: 323, Loss: 0.0829\n",
      "Epoch: 324, Loss: 0.0827\n",
      "Epoch: 325, Loss: 0.0827\n"
     ]
    },
    {
     "name": "stderr",
     "output_type": "stream",
     "text": [
      "100%|███████████████████████████████████████████████████████████████████████████| 17535/17535 [00:06<00:00, 2766.73it/s]\n"
     ]
    },
    {
     "name": "stdout",
     "output_type": "stream",
     "text": [
      "Epoch: 325, Val Mean Rank: 264.00, Val MRR: 0.2236, Val Hits@10: 0.3807\n",
      "Epoch: 326, Loss: 0.0819\n",
      "Epoch: 327, Loss: 0.0816\n",
      "Epoch: 328, Loss: 0.0821\n",
      "Epoch: 329, Loss: 0.0832\n",
      "Epoch: 330, Loss: 0.0823\n",
      "Epoch: 331, Loss: 0.0823\n",
      "Epoch: 332, Loss: 0.0822\n",
      "Epoch: 333, Loss: 0.0824\n",
      "Epoch: 334, Loss: 0.0821\n",
      "Epoch: 335, Loss: 0.0822\n",
      "Epoch: 336, Loss: 0.0822\n",
      "Epoch: 337, Loss: 0.0820\n",
      "Epoch: 338, Loss: 0.0819\n",
      "Epoch: 339, Loss: 0.0819\n",
      "Epoch: 340, Loss: 0.0822\n",
      "Epoch: 341, Loss: 0.0814\n",
      "Epoch: 342, Loss: 0.0808\n",
      "Epoch: 343, Loss: 0.0818\n",
      "Epoch: 344, Loss: 0.0820\n",
      "Epoch: 345, Loss: 0.0824\n",
      "Epoch: 346, Loss: 0.0821\n",
      "Epoch: 347, Loss: 0.0819\n",
      "Epoch: 348, Loss: 0.0813\n",
      "Epoch: 349, Loss: 0.0821\n",
      "Epoch: 350, Loss: 0.0813\n"
     ]
    },
    {
     "name": "stderr",
     "output_type": "stream",
     "text": [
      "100%|███████████████████████████████████████████████████████████████████████████| 17535/17535 [00:06<00:00, 2762.94it/s]\n"
     ]
    },
    {
     "name": "stdout",
     "output_type": "stream",
     "text": [
      "Epoch: 350, Val Mean Rank: 265.73, Val MRR: 0.2219, Val Hits@10: 0.3715\n",
      "Epoch: 351, Loss: 0.0821\n",
      "Epoch: 352, Loss: 0.0819\n",
      "Epoch: 353, Loss: 0.0817\n",
      "Epoch: 354, Loss: 0.0817\n",
      "Epoch: 355, Loss: 0.0827\n",
      "Epoch: 356, Loss: 0.0820\n",
      "Epoch: 357, Loss: 0.0817\n",
      "Epoch: 358, Loss: 0.0808\n",
      "Epoch: 359, Loss: 0.0820\n",
      "Epoch: 360, Loss: 0.0819\n",
      "Epoch: 361, Loss: 0.0820\n",
      "Epoch: 362, Loss: 0.0812\n",
      "Epoch: 363, Loss: 0.0821\n",
      "Epoch: 364, Loss: 0.0823\n",
      "Epoch: 365, Loss: 0.0814\n",
      "Epoch: 366, Loss: 0.0816\n",
      "Epoch: 367, Loss: 0.0807\n",
      "Epoch: 368, Loss: 0.0810\n",
      "Epoch: 369, Loss: 0.0823\n",
      "Epoch: 370, Loss: 0.0811\n",
      "Epoch: 371, Loss: 0.0809\n",
      "Epoch: 372, Loss: 0.0819\n",
      "Epoch: 373, Loss: 0.0813\n",
      "Epoch: 374, Loss: 0.0812\n",
      "Epoch: 375, Loss: 0.0815\n"
     ]
    },
    {
     "name": "stderr",
     "output_type": "stream",
     "text": [
      "100%|███████████████████████████████████████████████████████████████████████████| 17535/17535 [00:06<00:00, 2805.27it/s]\n"
     ]
    },
    {
     "name": "stdout",
     "output_type": "stream",
     "text": [
      "Epoch: 375, Val Mean Rank: 263.90, Val MRR: 0.2156, Val Hits@10: 0.3672\n",
      "Epoch: 376, Loss: 0.0807\n",
      "Epoch: 377, Loss: 0.0806\n",
      "Epoch: 378, Loss: 0.0812\n",
      "Epoch: 379, Loss: 0.0823\n",
      "Epoch: 380, Loss: 0.0809\n",
      "Epoch: 381, Loss: 0.0813\n",
      "Epoch: 382, Loss: 0.0805\n",
      "Epoch: 383, Loss: 0.0810\n",
      "Epoch: 384, Loss: 0.0818\n",
      "Epoch: 385, Loss: 0.0810\n",
      "Epoch: 386, Loss: 0.0807\n",
      "Epoch: 387, Loss: 0.0814\n",
      "Epoch: 388, Loss: 0.0800\n",
      "Epoch: 389, Loss: 0.0811\n",
      "Epoch: 390, Loss: 0.0811\n",
      "Epoch: 391, Loss: 0.0812\n",
      "Epoch: 392, Loss: 0.0803\n",
      "Epoch: 393, Loss: 0.0809\n",
      "Epoch: 394, Loss: 0.0803\n",
      "Epoch: 395, Loss: 0.0805\n",
      "Epoch: 396, Loss: 0.0802\n",
      "Epoch: 397, Loss: 0.0804\n",
      "Epoch: 398, Loss: 0.0803\n",
      "Epoch: 399, Loss: 0.0813\n",
      "Epoch: 400, Loss: 0.0810\n"
     ]
    },
    {
     "name": "stderr",
     "output_type": "stream",
     "text": [
      "100%|███████████████████████████████████████████████████████████████████████████| 17535/17535 [00:06<00:00, 2773.11it/s]\n"
     ]
    },
    {
     "name": "stdout",
     "output_type": "stream",
     "text": [
      "Epoch: 400, Val Mean Rank: 263.70, Val MRR: 0.2195, Val Hits@10: 0.3758\n",
      "Epoch: 401, Loss: 0.0806\n",
      "Epoch: 402, Loss: 0.0804\n",
      "Epoch: 403, Loss: 0.0808\n",
      "Epoch: 404, Loss: 0.0803\n",
      "Epoch: 405, Loss: 0.0798\n",
      "Epoch: 406, Loss: 0.0804\n",
      "Epoch: 407, Loss: 0.0806\n",
      "Epoch: 408, Loss: 0.0805\n",
      "Epoch: 409, Loss: 0.0808\n",
      "Epoch: 410, Loss: 0.0803\n",
      "Epoch: 411, Loss: 0.0809\n",
      "Epoch: 412, Loss: 0.0798\n",
      "Epoch: 413, Loss: 0.0804\n",
      "Epoch: 414, Loss: 0.0811\n",
      "Epoch: 415, Loss: 0.0809\n",
      "Epoch: 416, Loss: 0.0800\n",
      "Epoch: 417, Loss: 0.0811\n",
      "Epoch: 418, Loss: 0.0808\n",
      "Epoch: 419, Loss: 0.0808\n",
      "Epoch: 420, Loss: 0.0804\n",
      "Epoch: 421, Loss: 0.0812\n",
      "Epoch: 422, Loss: 0.0816\n",
      "Epoch: 423, Loss: 0.0807\n",
      "Epoch: 424, Loss: 0.0800\n",
      "Epoch: 425, Loss: 0.0806\n"
     ]
    },
    {
     "name": "stderr",
     "output_type": "stream",
     "text": [
      "100%|███████████████████████████████████████████████████████████████████████████| 17535/17535 [00:06<00:00, 2792.17it/s]\n"
     ]
    },
    {
     "name": "stdout",
     "output_type": "stream",
     "text": [
      "Epoch: 425, Val Mean Rank: 263.01, Val MRR: 0.2215, Val Hits@10: 0.3727\n",
      "Epoch: 426, Loss: 0.0804\n",
      "Epoch: 427, Loss: 0.0808\n",
      "Epoch: 428, Loss: 0.0806\n",
      "Epoch: 429, Loss: 0.0809\n",
      "Epoch: 430, Loss: 0.0805\n",
      "Epoch: 431, Loss: 0.0797\n",
      "Epoch: 432, Loss: 0.0801\n",
      "Epoch: 433, Loss: 0.0800\n",
      "Epoch: 434, Loss: 0.0800\n",
      "Epoch: 435, Loss: 0.0800\n",
      "Epoch: 436, Loss: 0.0796\n",
      "Epoch: 437, Loss: 0.0798\n",
      "Epoch: 438, Loss: 0.0799\n",
      "Epoch: 439, Loss: 0.0803\n",
      "Epoch: 440, Loss: 0.0803\n",
      "Epoch: 441, Loss: 0.0798\n",
      "Epoch: 442, Loss: 0.0799\n",
      "Epoch: 443, Loss: 0.0800\n",
      "Epoch: 444, Loss: 0.0812\n",
      "Epoch: 445, Loss: 0.0803\n",
      "Epoch: 446, Loss: 0.0797\n",
      "Epoch: 447, Loss: 0.0798\n",
      "Epoch: 448, Loss: 0.0806\n",
      "Epoch: 449, Loss: 0.0798\n",
      "Epoch: 450, Loss: 0.0800\n"
     ]
    },
    {
     "name": "stderr",
     "output_type": "stream",
     "text": [
      "100%|███████████████████████████████████████████████████████████████████████████| 17535/17535 [00:06<00:00, 2756.68it/s]\n"
     ]
    },
    {
     "name": "stdout",
     "output_type": "stream",
     "text": [
      "Epoch: 450, Val Mean Rank: 257.96, Val MRR: 0.2192, Val Hits@10: 0.3694\n",
      "Epoch: 451, Loss: 0.0801\n",
      "Epoch: 452, Loss: 0.0799\n",
      "Epoch: 453, Loss: 0.0794\n",
      "Epoch: 454, Loss: 0.0787\n",
      "Epoch: 455, Loss: 0.0795\n",
      "Epoch: 456, Loss: 0.0794\n",
      "Epoch: 457, Loss: 0.0802\n",
      "Epoch: 458, Loss: 0.0802\n",
      "Epoch: 459, Loss: 0.0789\n",
      "Epoch: 460, Loss: 0.0800\n",
      "Epoch: 461, Loss: 0.0799\n",
      "Epoch: 462, Loss: 0.0798\n",
      "Epoch: 463, Loss: 0.0793\n",
      "Epoch: 464, Loss: 0.0798\n",
      "Epoch: 465, Loss: 0.0794\n",
      "Epoch: 466, Loss: 0.0788\n",
      "Epoch: 467, Loss: 0.0787\n",
      "Epoch: 468, Loss: 0.0802\n",
      "Epoch: 469, Loss: 0.0798\n",
      "Epoch: 470, Loss: 0.0798\n",
      "Epoch: 471, Loss: 0.0800\n",
      "Epoch: 472, Loss: 0.0803\n",
      "Epoch: 473, Loss: 0.0801\n",
      "Epoch: 474, Loss: 0.0799\n",
      "Epoch: 475, Loss: 0.0796\n"
     ]
    },
    {
     "name": "stderr",
     "output_type": "stream",
     "text": [
      "100%|███████████████████████████████████████████████████████████████████████████| 17535/17535 [00:06<00:00, 2784.30it/s]\n"
     ]
    },
    {
     "name": "stdout",
     "output_type": "stream",
     "text": [
      "Epoch: 475, Val Mean Rank: 258.66, Val MRR: 0.2244, Val Hits@10: 0.3713\n",
      "Epoch: 476, Loss: 0.0794\n",
      "Epoch: 477, Loss: 0.0795\n",
      "Epoch: 478, Loss: 0.0795\n",
      "Epoch: 479, Loss: 0.0797\n",
      "Epoch: 480, Loss: 0.0794\n",
      "Epoch: 481, Loss: 0.0793\n",
      "Epoch: 482, Loss: 0.0796\n",
      "Epoch: 483, Loss: 0.0805\n",
      "Epoch: 484, Loss: 0.0792\n",
      "Epoch: 485, Loss: 0.0793\n",
      "Epoch: 486, Loss: 0.0797\n",
      "Epoch: 487, Loss: 0.0794\n",
      "Epoch: 488, Loss: 0.0799\n",
      "Epoch: 489, Loss: 0.0797\n",
      "Epoch: 490, Loss: 0.0800\n",
      "Epoch: 491, Loss: 0.0788\n",
      "Epoch: 492, Loss: 0.0793\n",
      "Epoch: 493, Loss: 0.0796\n",
      "Epoch: 494, Loss: 0.0793\n",
      "Epoch: 495, Loss: 0.0789\n",
      "Epoch: 496, Loss: 0.0794\n",
      "Epoch: 497, Loss: 0.0798\n",
      "Epoch: 498, Loss: 0.0794\n",
      "Epoch: 499, Loss: 0.0786\n",
      "Epoch: 500, Loss: 0.0798\n"
     ]
    },
    {
     "name": "stderr",
     "output_type": "stream",
     "text": [
      "100%|███████████████████████████████████████████████████████████████████████████| 17535/17535 [00:06<00:00, 2765.14it/s]\n"
     ]
    },
    {
     "name": "stdout",
     "output_type": "stream",
     "text": [
      "Epoch: 500, Val Mean Rank: 258.11, Val MRR: 0.2254, Val Hits@10: 0.3715\n"
     ]
    },
    {
     "name": "stderr",
     "output_type": "stream",
     "text": [
      "100%|███████████████████████████████████████████████████████████████████████████| 20466/20466 [00:07<00:00, 2814.42it/s]"
     ]
    },
    {
     "name": "stdout",
     "output_type": "stream",
     "text": [
      "Test Mean Rank: 266.00, Test MRR: 0.2210, Test Hits@10: 0.3651\n"
     ]
    },
    {
     "name": "stderr",
     "output_type": "stream",
     "text": [
      "\n"
     ]
    }
   ],
   "source": [
    "## 参考代码：https://github.com/pyg-team/pytorch_geometric/blob/master/examples/kge_fb15k_237.py \n",
    "\n",
    "import argparse\n",
    "import os.path as osp\n",
    "\n",
    "import torch\n",
    "import torch.optim as optim\n",
    "\n",
    "from torch_geometric.datasets import FB15k_237\n",
    "from torch_geometric.nn import ComplEx, DistMult, RotatE, TransE\n",
    "\n",
    "model_map = {\n",
    "    'transe': TransE,\n",
    "    'complex': ComplEx,\n",
    "    'distmult': DistMult,\n",
    "    'rotate': RotatE,\n",
    "}\n",
    "\n",
    "# parser = argparse.ArgumentParser()\n",
    "# parser.add_argument('--model', choices=model_map.keys(), type=str.lower,\n",
    "#                     required=True)\n",
    "# args = parser.parse_args()\n",
    "\n",
    "args_model = \"transe\"\n",
    "\n",
    "device = 'cuda' if torch.cuda.is_available() else 'cpu'\n",
    "path = create_originalData_path(\"FB15k\") # osp.join(osp.dirname(osp.realpath(__file__)), '..', 'data', 'FB15k')\n",
    "\n",
    "train_data = FB15k_237(path, split='train')[0].to(device)\n",
    "val_data = FB15k_237(path, split='val')[0].to(device)\n",
    "test_data = FB15k_237(path, split='test')[0].to(device)\n",
    "\n",
    "model_arg_map = {'rotate': {'margin': 9.0}}\n",
    "model = model_map[args_model](\n",
    "    num_nodes=train_data.num_nodes,\n",
    "    num_relations=train_data.num_edge_types,\n",
    "    hidden_channels=50,\n",
    "    **model_arg_map.get(args_model, {}),\n",
    ").to(device)\n",
    "\n",
    "loader = model.loader(\n",
    "    head_index=train_data.edge_index[0],\n",
    "    rel_type=train_data.edge_type,\n",
    "    tail_index=train_data.edge_index[1],\n",
    "    batch_size=1000,\n",
    "    shuffle=True,\n",
    ")\n",
    "\n",
    "optimizer_map = {\n",
    "    'transe': optim.Adam(model.parameters(), lr=0.01),\n",
    "    'complex': optim.Adagrad(model.parameters(), lr=0.001, weight_decay=1e-6),\n",
    "    'distmult': optim.Adam(model.parameters(), lr=0.0001, weight_decay=1e-6),\n",
    "    'rotate': optim.Adam(model.parameters(), lr=1e-3),\n",
    "}\n",
    "optimizer = optimizer_map[args_model]\n",
    "\n",
    "\n",
    "def train():\n",
    "    model.train()\n",
    "    total_loss = total_examples = 0\n",
    "    for head_index, rel_type, tail_index in loader:\n",
    "        optimizer.zero_grad()\n",
    "        loss = model.loss(head_index, rel_type, tail_index)\n",
    "        loss.backward()\n",
    "        optimizer.step()\n",
    "        total_loss += float(loss) * head_index.numel()\n",
    "        total_examples += head_index.numel()\n",
    "    return total_loss / total_examples\n",
    "\n",
    "\n",
    "@torch.no_grad()\n",
    "def test(data):\n",
    "    model.eval()\n",
    "    return model.test(\n",
    "        head_index=data.edge_index[0],\n",
    "        rel_type=data.edge_type,\n",
    "        tail_index=data.edge_index[1],\n",
    "        batch_size=20000,\n",
    "        k=10,\n",
    "    )\n",
    "\n",
    "\n",
    "for epoch in range(1, 501):\n",
    "    loss = train()\n",
    "    print(f'Epoch: {epoch:03d}, Loss: {loss:.4f}')\n",
    "    if epoch % 25 == 0:\n",
    "        rank, mrr, hits = test(val_data)\n",
    "        print(f'Epoch: {epoch:03d}, Val Mean Rank: {rank:.2f}, '\n",
    "              f'Val MRR: {mrr:.4f}, Val Hits@10: {hits:.4f}')\n",
    "\n",
    "rank, mrr, hits_at_10 = test(test_data)\n",
    "print(f'Test Mean Rank: {rank:.2f}, Test MRR: {mrr:.4f}, '\n",
    "      f'Test Hits@10: {hits_at_10:.4f}')"
   ]
  },
  {
   "cell_type": "code",
   "execution_count": null,
   "id": "d0a736bb-6867-4bf4-9fd0-fde436635b62",
   "metadata": {},
   "outputs": [],
   "source": []
  },
  {
   "cell_type": "code",
   "execution_count": null,
   "id": "a5db6ffb-4437-45c9-af4b-900dc088df20",
   "metadata": {},
   "outputs": [],
   "source": []
  },
  {
   "cell_type": "code",
   "execution_count": null,
   "id": "8ad41d0d-1ee9-419f-b462-afaa63b2ecf4",
   "metadata": {},
   "outputs": [],
   "source": []
  },
  {
   "cell_type": "code",
   "execution_count": null,
   "id": "8c788262-12fd-4411-9514-877b87643cff",
   "metadata": {},
   "outputs": [],
   "source": []
  },
  {
   "cell_type": "code",
   "execution_count": 25,
   "id": "efaba1bf-6c39-44ef-b56e-bb26739c4a5c",
   "metadata": {},
   "outputs": [
    {
     "name": "stdout",
     "output_type": "stream",
     "text": [
      "Epoch 0: Loss = -1.7937239408493042\n",
      "Epoch 50: Loss = -2.4045767784118652\n",
      "Epoch 100: Loss = -3.098721981048584\n",
      "Epoch 150: Loss = -3.855877161026001\n",
      "Epoch 200: Loss = -4.6569342613220215\n",
      "Epoch 250: Loss = -5.423018932342529\n",
      "Epoch 300: Loss = -6.173830509185791\n",
      "Epoch 350: Loss = -6.916337013244629\n",
      "Epoch 400: Loss = -7.653810501098633\n",
      "Epoch 450: Loss = -8.387285232543945\n",
      "训练完成！\n",
      "实体嵌入：\n",
      "tensor([[ 7.8829e-01, -4.4779e-01,  1.2912e+00, -1.2436e+00,  1.2583e+00,\n",
      "          3.0577e-01, -1.8893e-01,  4.5175e-01, -1.8712e+00,  8.4413e-01,\n",
      "          6.0943e-01, -6.8849e-01, -2.3973e-01, -4.1894e-01,  5.1160e-01,\n",
      "         -1.8564e+00],\n",
      "        [-1.0235e+00, -5.1289e-01,  2.0947e-01,  1.0953e+00,  1.3486e+00,\n",
      "         -1.8944e-04,  3.2078e-05, -1.1329e+00, -3.7448e-01,  1.2809e+00,\n",
      "          3.7390e-01,  6.2983e-01,  1.4020e+00,  6.1518e-01, -1.5975e+00,\n",
      "         -1.6289e+00],\n",
      "        [ 1.4022e+00, -3.8087e-01, -1.5629e+00, -1.1025e-04, -7.3842e-01,\n",
      "          9.3512e-01,  7.4273e-01,  1.2148e+00,  3.4041e-01, -2.0387e-01,\n",
      "         -9.3910e-03, -9.7796e-03, -1.3772e+00,  1.1927e+00,  1.5091e-01,\n",
      "          1.4345e+00],\n",
      "        [-1.5249e-01, -1.4038e+00, -6.9977e-01,  1.2687e-05, -1.8385e-02,\n",
      "         -1.3805e+00, -1.8931e+00, -2.3338e-01,  1.7599e+00, -7.3330e-01,\n",
      "         -1.9109e+00, -9.7416e-01,  2.7931e-01,  9.6479e-01, -6.6595e-01,\n",
      "         -1.0311e-01]])\n"
     ]
    }
   ],
   "source": [
    "import torch\n",
    "from torch_geometric.data import Data\n",
    "from torch_geometric.nn import TransE\n",
    "from torch.optim import Adam\n",
    "\n",
    "# 定义节点和关系\n",
    "# 假设 0: 人1, 1: 人2, 2: 公司1, 3: 公司2\n",
    "# 边的定义 (source, target)\n",
    "edge_index = torch.tensor([\n",
    "    [0, 0, 1, 1],  # 投资人的索引\n",
    "    [2, 3, 2, 3]   # 公司人的索引\n",
    "], dtype=torch.long)\n",
    "\n",
    "# 投资金额\n",
    "edge_weight = torch.tensor([1000.0, 2000.0, 1500.0, 3000.0], dtype=torch.float)\n",
    "\n",
    "# 创建数据对象\n",
    "data = Data(edge_index=edge_index, edge_attr=edge_weight)\n",
    "\n",
    "# 定义TransE模型\n",
    "num_entities = 4  # 人和公司的总节点数\n",
    "embedding_dim = 16  # 嵌入维度\n",
    "\n",
    "# 使用 TransE 类进行嵌入\n",
    "model = TransE(num_nodes=num_entities, hidden_channels=embedding_dim, num_relations=1)\n",
    "\n",
    "# 训练模型\n",
    "model.train()\n",
    "optimizer = Adam(model.parameters(), lr=0.001)\n",
    "\n",
    "# 创建头尾索引\n",
    "head_index = edge_index[0]  # 投资人索引\n",
    "tail_index = edge_index[1]   # 公司索引\n",
    "relation_index = torch.zeros(head_index.size(0), dtype=torch.long)  # 所有关系的索引（假设只有一种关系）\n",
    "\n",
    "for epoch in range(500):\n",
    "    optimizer.zero_grad()\n",
    "    # 使用头、尾索引、关系索引和边权重\n",
    "    loss = model(head_index, relation_index, tail_index,)\n",
    "    \n",
    "    # 确保损失是标量\n",
    "    loss = loss.mean()  # 取平均作为最终损失\n",
    "    loss.backward()\n",
    "    optimizer.step()\n",
    "    \n",
    "    if epoch % 50 == 0:\n",
    "        print(f'Epoch {epoch}: Loss = {loss.item()}')\n",
    "\n",
    "print(\"训练完成！\")\n",
    "\n",
    "# 获取嵌入结果\n",
    "entity_embeddings = model.node_emb.weight.data\n",
    "print(\"实体嵌入：\")\n",
    "print(entity_embeddings)\n"
   ]
  },
  {
   "cell_type": "code",
   "execution_count": 26,
   "id": "7c9daa2c-5da8-43e4-a1b3-a0806f79dee6",
   "metadata": {},
   "outputs": [
    {
     "data": {
      "text/plain": [
       "\u001b[0;31mSignature:\u001b[0m\n",
       "\u001b[0mmodel\u001b[0m\u001b[0;34m.\u001b[0m\u001b[0mforward\u001b[0m\u001b[0;34m(\u001b[0m\u001b[0;34m\u001b[0m\n",
       "\u001b[0;34m\u001b[0m    \u001b[0mhead_index\u001b[0m\u001b[0;34m:\u001b[0m \u001b[0mtorch\u001b[0m\u001b[0;34m.\u001b[0m\u001b[0mTensor\u001b[0m\u001b[0;34m,\u001b[0m\u001b[0;34m\u001b[0m\n",
       "\u001b[0;34m\u001b[0m    \u001b[0mrel_type\u001b[0m\u001b[0;34m:\u001b[0m \u001b[0mtorch\u001b[0m\u001b[0;34m.\u001b[0m\u001b[0mTensor\u001b[0m\u001b[0;34m,\u001b[0m\u001b[0;34m\u001b[0m\n",
       "\u001b[0;34m\u001b[0m    \u001b[0mtail_index\u001b[0m\u001b[0;34m:\u001b[0m \u001b[0mtorch\u001b[0m\u001b[0;34m.\u001b[0m\u001b[0mTensor\u001b[0m\u001b[0;34m,\u001b[0m\u001b[0;34m\u001b[0m\n",
       "\u001b[0;34m\u001b[0m\u001b[0;34m)\u001b[0m \u001b[0;34m->\u001b[0m \u001b[0mtorch\u001b[0m\u001b[0;34m.\u001b[0m\u001b[0mTensor\u001b[0m\u001b[0;34m\u001b[0m\u001b[0;34m\u001b[0m\u001b[0m\n",
       "\u001b[0;31mDocstring:\u001b[0m\n",
       "Returns the score for the given triplet.\n",
       "\n",
       "Args:\n",
       "    head_index (torch.Tensor): The head indices.\n",
       "    rel_type (torch.Tensor): The relation type.\n",
       "    tail_index (torch.Tensor): The tail indices.\n",
       "\u001b[0;31mFile:\u001b[0m      ~/.local/lib/python3.10/site-packages/torch_geometric/nn/kge/transe.py\n",
       "\u001b[0;31mType:\u001b[0m      method"
      ]
     },
     "metadata": {},
     "output_type": "display_data"
    }
   ],
   "source": [
    "model.forward?"
   ]
  },
  {
   "cell_type": "code",
   "execution_count": 27,
   "id": "c4e51891-5e77-491f-a426-8fbe34ff1f04",
   "metadata": {},
   "outputs": [
    {
     "data": {
      "text/plain": [
       "\u001b[0;31mSignature:\u001b[0m      \u001b[0mmodel\u001b[0m\u001b[0;34m(\u001b[0m\u001b[0;34m*\u001b[0m\u001b[0margs\u001b[0m\u001b[0;34m,\u001b[0m \u001b[0;34m**\u001b[0m\u001b[0mkwargs\u001b[0m\u001b[0;34m)\u001b[0m\u001b[0;34m\u001b[0m\u001b[0;34m\u001b[0m\u001b[0m\n",
       "\u001b[0;31mType:\u001b[0m           TransE\n",
       "\u001b[0;31mString form:\u001b[0m    TransE(4, num_relations=1, hidden_channels=16)\n",
       "\u001b[0;31mFile:\u001b[0m           ~/.local/lib/python3.10/site-packages/torch_geometric/nn/kge/transe.py\n",
       "\u001b[0;31mDocstring:\u001b[0m     \n",
       "The TransE model from the `\"Translating Embeddings for Modeling\n",
       "Multi-Relational Data\" <https://proceedings.neurips.cc/paper/2013/file/\n",
       "1cecc7a77928ca8133fa24680a88d2f9-Paper.pdf>`_ paper.\n",
       "\n",
       ":class:`TransE` models relations as a translation from head to tail\n",
       "entities such that\n",
       "\n",
       ".. math::\n",
       "    \\mathbf{e}_h + \\mathbf{e}_r \\approx \\mathbf{e}_t,\n",
       "\n",
       "resulting in the scoring function:\n",
       "\n",
       ".. math::\n",
       "    d(h, r, t) = - {\\| \\mathbf{e}_h + \\mathbf{e}_r - \\mathbf{e}_t \\|}_p\n",
       "\n",
       ".. note::\n",
       "\n",
       "    For an example of using the :class:`TransE` model, see\n",
       "    `examples/kge_fb15k_237.py\n",
       "    <https://github.com/pyg-team/pytorch_geometric/blob/master/examples/\n",
       "    kge_fb15k_237.py>`_.\n",
       "\n",
       "Args:\n",
       "    num_nodes (int): The number of nodes/entities in the graph.\n",
       "    num_relations (int): The number of relations in the graph.\n",
       "    hidden_channels (int): The hidden embedding size.\n",
       "    margin (int, optional): The margin of the ranking loss.\n",
       "        (default: :obj:`1.0`)\n",
       "    p_norm (int, optional): The order embedding and distance normalization.\n",
       "        (default: :obj:`1.0`)\n",
       "    sparse (bool, optional): If set to :obj:`True`, gradients w.r.t. to the\n",
       "        embedding matrices will be sparse. (default: :obj:`False`)\n",
       "\u001b[0;31mInit docstring:\u001b[0m Initialize internal Module state, shared by both nn.Module and ScriptModule."
      ]
     },
     "metadata": {},
     "output_type": "display_data"
    }
   ],
   "source": [
    "model?"
   ]
  },
  {
   "cell_type": "code",
   "execution_count": null,
   "id": "201c5de3-822a-498c-953c-c39b0290b8fa",
   "metadata": {},
   "outputs": [],
   "source": []
  },
  {
   "cell_type": "code",
   "execution_count": null,
   "id": "a1d91fd9-9b5e-4035-b3f4-daf73c60e104",
   "metadata": {},
   "outputs": [],
   "source": []
  },
  {
   "cell_type": "code",
   "execution_count": null,
   "id": "9224b8b2-52a8-4253-8b09-e8a36f92f034",
   "metadata": {},
   "outputs": [],
   "source": []
  },
  {
   "cell_type": "code",
   "execution_count": null,
   "id": "d2ccb3d4-23d2-4b8e-be30-2843c31e1d6a",
   "metadata": {},
   "outputs": [],
   "source": []
  },
  {
   "cell_type": "code",
   "execution_count": null,
   "id": "8323b769-1401-473e-a3e7-5a9db81e834c",
   "metadata": {},
   "outputs": [],
   "source": []
  }
 ],
 "metadata": {
  "kernelspec": {
   "display_name": "Python 3 (ipykernel)",
   "language": "python",
   "name": "python3"
  },
  "language_info": {
   "codemirror_mode": {
    "name": "ipython",
    "version": 3
   },
   "file_extension": ".py",
   "mimetype": "text/x-python",
   "name": "python",
   "nbconvert_exporter": "python",
   "pygments_lexer": "ipython3",
   "version": "3.10.12"
  }
 },
 "nbformat": 4,
 "nbformat_minor": 5
}
